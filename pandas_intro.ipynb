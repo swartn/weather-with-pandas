{
 "metadata": {
  "name": ""
 },
 "nbformat": 3,
 "nbformat_minor": 0,
 "worksheets": [
  {
   "cells": [
    {
     "cell_type": "markdown",
     "metadata": {},
     "source": [
      "# Weather with Pandas\n",
      "__Neil.Swart@ec.gc.ca__\n",
      "\n",
      "This is a basic introduction to pandas using some EC weather station data. Before starting\n",
      "download the data using wget:\n",
      "\n",
      "    wget --output-document=yyj_daily_2012.csv \"http://climate.weather.gc.ca/climateData/bulkdata_e.html? format=csv&stationID=118&Year=2012&Month=12&day=1&timeframe=2&submit=Download+Data\"\n",
      "\n",
      "or just click on [this EC link](http://climate.weather.gc.ca/climateData/bulkdata_e.htmlformat=csv&stationID=118&Year=2012&Month=12&day=1&timeframe=2&submit=Download+Data) and save the file as yyj_daily_2012.csv\n",
      "\n",
      "Some of this was taken from a similar tutorial, which documents even more functionality:\n",
      "\n",
      "[http://nbviewer.ipython.org/github/swcarpentry/bc/blob/gh-pages/lessons/misc-pandas/an-introduction-to-pandas.ipynb]\n",
      "\n",
      "Of course also check out the official docs:\n",
      "[http://pandas.pydata.org/]"
     ]
    },
    {
     "cell_type": "markdown",
     "metadata": {},
     "source": [
      "First off lets load up our required modules, including pandas."
     ]
    },
    {
     "cell_type": "code",
     "collapsed": false,
     "input": [
      "import re\n",
      "import pandas as pd\n",
      "from datetime import datetime\n",
      "import matplotlib.pyplot as plt\n",
      "plt.close('all')\n",
      "%matplotlib inline  "
     ],
     "language": "python",
     "metadata": {},
     "outputs": [],
     "prompt_number": 23
    },
    {
     "cell_type": "markdown",
     "metadata": {},
     "source": [
      "Read in the yyj daily weather data from CSV into a\n",
      "Pandas dataframe. Skip the first 24 rows which are\n",
      "unwanted header. Columns headers will be inferred."
     ]
    },
    {
     "cell_type": "code",
     "collapsed": false,
     "input": [
      "df = pd.read_csv('yyj_daily_2012.csv',skiprows=24)"
     ],
     "language": "python",
     "metadata": {},
     "outputs": [],
     "prompt_number": 6
    },
    {
     "cell_type": "markdown",
     "metadata": {},
     "source": [
      "Lets look at some properties of the dataframe, like its shape. Many similar methods to numpy arrays, but many more too...First, get the shape:"
     ]
    },
    {
     "cell_type": "code",
     "collapsed": false,
     "input": [
      "df.shape"
     ],
     "language": "python",
     "metadata": {},
     "outputs": [
      {
       "metadata": {},
       "output_type": "pyout",
       "prompt_number": 4,
       "text": [
        "(366, 27)"
       ]
      }
     ],
     "prompt_number": 4
    },
    {
     "cell_type": "markdown",
     "metadata": {},
     "source": [
      "Lets see what the columns are"
     ]
    },
    {
     "cell_type": "code",
     "collapsed": false,
     "input": [
      "df.columns"
     ],
     "language": "python",
     "metadata": {},
     "outputs": [
      {
       "metadata": {},
       "output_type": "pyout",
       "prompt_number": 5,
       "text": [
        "Index([u'Date/Time', u'Year', u'Month', u'Day', u'Data_Quality', u'Max_Temp', u'Max_Temp_Flag', u'Min_Temp', u'Min_Temp_Flag', u'Mean_Temp', u'Mean_Temp_Flag', u'Heat_Deg_Days', u'Heat_Deg_Days_Flag', u'Cool_Deg_Days', u'Cool_Deg_Days_Flag', u'Total_Rain', u'Total_Rain_Flag', u'Total_Snow', u'Total_Snow_Flag', u'Total_Precip', u'Total_Precip_Flag', u'Snow_on_Grnd', u'Snow_on_Grnd_Flag', u'Dir_of_Max_Gust', u'Dir_of_Max_Gust_Flag', u'Spd_of_Max_Gust', u'Spd_of_Max_Gust_Flag'], dtype='object')"
       ]
      }
     ],
     "prompt_number": 5
    },
    {
     "cell_type": "markdown",
     "metadata": {},
     "source": [
      "\n"
     ]
    },
    {
     "cell_type": "markdown",
     "metadata": {},
     "source": [
      "Lets look at some mean statistics. Max, Min, Std, and others are available too. "
     ]
    },
    {
     "cell_type": "code",
     "collapsed": false,
     "input": [
      "df.mean()"
     ],
     "language": "python",
     "metadata": {},
     "outputs": [
      {
       "metadata": {},
       "output_type": "pyout",
       "prompt_number": 10,
       "text": [
        "Year                         2012.000000\n",
        "Month                           6.513661\n",
        "Day                            15.756831\n",
        "Data Quality                         NaN\n",
        "Max Temp (\ufffdC)                  14.179508\n",
        "Max Temp Flag                        NaN\n",
        "Min Temp (\ufffdC)                   5.578142\n",
        "Min Temp Flag                        NaN\n",
        "Mean Temp (\ufffdC)                  9.902186\n",
        "Mean Temp Flag                       NaN\n",
        "Heat Deg Days (\ufffdC)              8.173224\n",
        "Heat Deg Days Flag                   NaN\n",
        "Cool Deg Days (\ufffdC)              0.075410\n",
        "Cool Deg Days Flag                   NaN\n",
        "Total Rain (mm)                 2.597541\n",
        "Total Snow (cm)                 0.037705\n",
        "Total Precip (mm)               2.633607\n",
        "Snow on Grnd (cm)               0.040984\n",
        "Dir of Max Gust (10s deg)      19.315789\n",
        "dtype: float64"
       ]
      }
     ],
     "prompt_number": 10
    },
    {
     "cell_type": "markdown",
     "metadata": {},
     "source": [
      "lets access some data, lets say the year field"
     ]
    },
    {
     "cell_type": "code",
     "collapsed": false,
     "input": [
      "df['Year']"
     ],
     "language": "python",
     "metadata": {},
     "outputs": [
      {
       "metadata": {},
       "output_type": "pyout",
       "prompt_number": 11,
       "text": [
        "0     2012\n",
        "1     2012\n",
        "2     2012\n",
        "3     2012\n",
        "4     2012\n",
        "5     2012\n",
        "6     2012\n",
        "7     2012\n",
        "8     2012\n",
        "9     2012\n",
        "10    2012\n",
        "11    2012\n",
        "12    2012\n",
        "13    2012\n",
        "14    2012\n",
        "...\n",
        "351    2012\n",
        "352    2012\n",
        "353    2012\n",
        "354    2012\n",
        "355    2012\n",
        "356    2012\n",
        "357    2012\n",
        "358    2012\n",
        "359    2012\n",
        "360    2012\n",
        "361    2012\n",
        "362    2012\n",
        "363    2012\n",
        "364    2012\n",
        "365    2012\n",
        "Name: Year, Length: 366, dtype: int64"
       ]
      }
     ],
     "prompt_number": 11
    },
    {
     "cell_type": "markdown",
     "metadata": {},
     "source": [
      "only the first 10 years, this time using dot sytax"
     ]
    },
    {
     "cell_type": "code",
     "collapsed": false,
     "input": [
      "df.Year.head(10)"
     ],
     "language": "python",
     "metadata": {},
     "outputs": [
      {
       "metadata": {},
       "output_type": "pyout",
       "prompt_number": 14,
       "text": [
        "0    2012\n",
        "1    2012\n",
        "2    2012\n",
        "3    2012\n",
        "4    2012\n",
        "5    2012\n",
        "6    2012\n",
        "7    2012\n",
        "8    2012\n",
        "9    2012\n",
        "Name: Year, dtype: int64"
       ]
      }
     ],
     "prompt_number": 14
    },
    {
     "cell_type": "markdown",
     "metadata": {},
     "source": [
      "statistics of the Total precip field\n"
     ]
    },
    {
     "cell_type": "code",
     "collapsed": false,
     "input": [
      "df['Total Precip (mm)'].describe()"
     ],
     "language": "python",
     "metadata": {},
     "outputs": [
      {
       "metadata": {},
       "output_type": "pyout",
       "prompt_number": 15,
       "text": [
        "count    366.000000\n",
        "mean       2.633607\n",
        "std        5.164477\n",
        "min        0.000000\n",
        "25%        0.000000\n",
        "50%        0.000000\n",
        "75%        2.800000\n",
        "max       29.800000\n",
        "Name: Total Precip (mm), dtype: float64"
       ]
      }
     ],
     "prompt_number": 15
    },
    {
     "cell_type": "markdown",
     "metadata": {},
     "source": [
      "The columns names are a little unweildy, so lets replace them with something better:\n",
      "For each column name, lets strip out the wierd unit and spaces and replace spaces with underscores\n",
      "and store the result in a list called dcol. This is just a python trick, not really pandas. You could\n",
      "just write a list of names if you wanted."
     ]
    },
    {
     "cell_type": "code",
     "collapsed": false,
     "input": [
      "dcol = [ re.sub(r'\\(.*?\\)', '', col).strip(' ').replace(' ', '_') for col in df.columns ]\n",
      "# now lets replace our old columns headers with dcol in the pandas dataframe. Remember, dcol\n",
      "# could be any list of names you make up, as long as it is a list containing the correct number strings = # columns.\n",
      "\n",
      "df.columns = dcol\n",
      "\n",
      "# check that it worked\n",
      "df.columns"
     ],
     "language": "python",
     "metadata": {},
     "outputs": [
      {
       "metadata": {},
       "output_type": "pyout",
       "prompt_number": 17,
       "text": [
        "Index([u'Date/Time', u'Year', u'Month', u'Day', u'Data_Quality', u'Max_Temp', u'Max_Temp_Flag', u'Min_Temp', u'Min_Temp_Flag', u'Mean_Temp', u'Mean_Temp_Flag', u'Heat_Deg_Days', u'Heat_Deg_Days_Flag', u'Cool_Deg_Days', u'Cool_Deg_Days_Flag', u'Total_Rain', u'Total_Rain_Flag', u'Total_Snow', u'Total_Snow_Flag', u'Total_Precip', u'Total_Precip_Flag', u'Snow_on_Grnd', u'Snow_on_Grnd_Flag', u'Dir_of_Max_Gust', u'Dir_of_Max_Gust_Flag', u'Spd_of_Max_Gust', u'Spd_of_Max_Gust_Flag'], dtype='object')"
       ]
      }
     ],
     "prompt_number": 17
    },
    {
     "cell_type": "markdown",
     "metadata": {},
     "source": [
      "now use dot sytax to get some data"
     ]
    },
    {
     "cell_type": "code",
     "collapsed": false,
     "input": [
      "df.Max_Temp"
     ],
     "language": "python",
     "metadata": {},
     "outputs": [
      {
       "metadata": {},
       "output_type": "pyout",
       "prompt_number": 18,
       "text": [
        "0      6.6\n",
        "1     10.4\n",
        "2      9.7\n",
        "3     10.6\n",
        "4      8.8\n",
        "5      6.0\n",
        "6      6.6\n",
        "7      8.1\n",
        "8     10.7\n",
        "9      6.3\n",
        "10     5.2\n",
        "11     5.9\n",
        "12     3.4\n",
        "13     5.1\n",
        "14     2.4\n",
        "...\n",
        "351    5.8\n",
        "352    5.5\n",
        "353    5.8\n",
        "354    6.9\n",
        "355    7.9\n",
        "356    5.6\n",
        "357    7.7\n",
        "358    6.4\n",
        "359    5.9\n",
        "360    6.5\n",
        "361    6.6\n",
        "362    6.6\n",
        "363    5.5\n",
        "364    5.4\n",
        "365    3.7\n",
        "Name: Max_Temp, Length: 366, dtype: float64"
       ]
      }
     ],
     "prompt_number": 18
    },
    {
     "cell_type": "markdown",
     "metadata": {},
     "source": [
      "lets look at that data in a histogram"
     ]
    },
    {
     "cell_type": "code",
     "collapsed": false,
     "input": [
      "df.Max_Temp.hist()"
     ],
     "language": "python",
     "metadata": {},
     "outputs": [
      {
       "metadata": {},
       "output_type": "pyout",
       "prompt_number": 25,
       "text": [
        "<matplotlib.axes.AxesSubplot at 0x4de8d90>"
       ]
      },
      {
       "metadata": {},
       "output_type": "display_data",
       "png": "[encoded data removed]",
       "text": [
        "<matplotlib.figure.Figure at 0x49e7350>"
       ]
      }
     ],
     "prompt_number": 25
    },
    {
     "cell_type": "code",
     "collapsed": false,
     "input": [
      "Ok, now lets look at the \"index\", currently the index is an integer."
     ],
     "language": "python",
     "metadata": {},
     "outputs": []
    },
    {
     "cell_type": "code",
     "collapsed": false,
     "input": [
      "df.index"
     ],
     "language": "python",
     "metadata": {},
     "outputs": [
      {
       "metadata": {},
       "output_type": "pyout",
       "prompt_number": 24,
       "text": [
        "<class 'pandas.tseries.index.DatetimeIndex'>\n",
        "[2012-01-01, ..., 2012-12-31]\n",
        "Length: 366, Freq: None, Timezone: None"
       ]
      }
     ],
     "prompt_number": 24
    },
    {
     "cell_type": "markdown",
     "metadata": {},
     "source": [
      "thats okay, but it turns out to be useful to use the datetime as the index.\n",
      "let write a function that converts our first column, the string Date/Time into an actual\n",
      "python datetime object. "
     ]
    },
    {
     "cell_type": "code",
     "collapsed": false,
     "input": [
      "# Define a function to convert strings to dates\n",
      "def string_to_date(date_string):\n",
      "    return datetime.strptime(date_string, \"%Y-%m-%d\")"
     ],
     "language": "python",
     "metadata": {},
     "outputs": []
    },
    {
     "cell_type": "markdown",
     "metadata": {},
     "source": [
      "Run the function on every date string and overwrite the column"
     ]
    },
    {
     "cell_type": "code",
     "collapsed": false,
     "input": [
      "df.date = df['Date/Time'].apply(string_to_date)\n",
      "df.date.head()"
     ],
     "language": "python",
     "metadata": {},
     "outputs": [
      {
       "metadata": {},
       "output_type": "pyout",
       "prompt_number": 20,
       "text": [
        "0   2012-01-01\n",
        "1   2012-01-02\n",
        "2   2012-01-03\n",
        "3   2012-01-04\n",
        "4   2012-01-05\n",
        "Name: Date/Time, dtype: datetime64[ns]"
       ]
      }
     ],
     "prompt_number": 20
    },
    {
     "cell_type": "markdown",
     "metadata": {},
     "source": [
      "Now lets replace our dataframes index with the date field"
     ]
    },
    {
     "cell_type": "code",
     "collapsed": false,
     "input": [
      "df.index = df.date"
     ],
     "language": "python",
     "metadata": {},
     "outputs": [],
     "prompt_number": 21
    },
    {
     "cell_type": "markdown",
     "metadata": {},
     "source": [
      "check that it worked"
     ]
    },
    {
     "cell_type": "code",
     "collapsed": false,
     "input": [
      "df.index"
     ],
     "language": "python",
     "metadata": {},
     "outputs": [
      {
       "metadata": {},
       "output_type": "pyout",
       "prompt_number": 22,
       "text": [
        "<class 'pandas.tseries.index.DatetimeIndex'>\n",
        "[2012-01-01, ..., 2012-12-31]\n",
        "Length: 366, Freq: None, Timezone: None"
       ]
      }
     ],
     "prompt_number": 22
    },
    {
     "cell_type": "markdown",
     "metadata": {},
     "source": [
      "Actually, we are being inefficient. When we loaded the dataframe,\n",
      "we could have told pandas to parse the dates and use them. But\n",
      "the above example shows how you can define a function and apply\n",
      "it to every line in a dataframe."
     ]
    },
    {
     "cell_type": "markdown",
     "metadata": {},
     "source": [
      "Okay, now that we have the index as datetimes, it allows us to do some neat filetering and plotting. Lets start by doing a seasonal decomposition. Lets find the max temp in summer (JJA):"
     ]
    },
    {
     "cell_type": "code",
     "collapsed": false,
     "input": [
      "df.jja = df[ ( df.index.month >= 6 ) & ( df.index.month <= 8 )]\n",
      "df.jja.Max_Temp.max()"
     ],
     "language": "python",
     "metadata": {},
     "outputs": [
      {
       "metadata": {},
       "output_type": "pyout",
       "prompt_number": 27,
       "text": [
        "31.399999999999999"
       ]
      }
     ],
     "prompt_number": 27
    },
    {
     "cell_type": "markdown",
     "metadata": {},
     "source": [
      "Lets find information on 18th July. To do this we will use ix, and pass it the datetime for 18 July."
     ]
    },
    {
     "cell_type": "code",
     "collapsed": false,
     "input": [
      "df.ix[ datetime(2012, 6, 18) ]"
     ],
     "language": "python",
     "metadata": {},
     "outputs": [
      {
       "metadata": {},
       "output_type": "pyout",
       "prompt_number": 28,
       "text": [
        "Date/Time               2012-06-18\n",
        "Year                          2012\n",
        "Month                            6\n",
        "Day                             18\n",
        "Data_Quality                   NaN\n",
        "Max_Temp                      18.2\n",
        "Max_Temp_Flag                  NaN\n",
        "Min_Temp                       9.5\n",
        "Min_Temp_Flag                  NaN\n",
        "Mean_Temp                     13.9\n",
        "Mean_Temp_Flag                 NaN\n",
        "Heat_Deg_Days                  4.1\n",
        "Heat_Deg_Days_Flag             NaN\n",
        "Cool_Deg_Days                    0\n",
        "Cool_Deg_Days_Flag             NaN\n",
        "Total_Rain                     1.5\n",
        "Total_Rain_Flag                NaN\n",
        "Total_Snow                       0\n",
        "Total_Snow_Flag                NaN\n",
        "Total_Precip                   1.5\n",
        "Total_Precip_Flag              NaN\n",
        "Snow_on_Grnd                     0\n",
        "Snow_on_Grnd_Flag              NaN\n",
        "Dir_of_Max_Gust                 25\n",
        "Dir_of_Max_Gust_Flag             E\n",
        "Spd_of_Max_Gust                 39\n",
        "Spd_of_Max_Gust_Flag             E\n",
        "Name: 2012-06-18 00:00:00, dtype: object"
       ]
      }
     ],
     "prompt_number": 28
    },
    {
     "cell_type": "markdown",
     "metadata": {},
     "source": [
      "Lets look only for days that are nice and warm, lets say Mean_Temp > 18. We'll request the index so we get a print out of the datetimes."
     ]
    },
    {
     "cell_type": "code",
     "collapsed": false,
     "input": [
      "df[ df.Mean_Temp > 18 ].index"
     ],
     "language": "python",
     "metadata": {},
     "outputs": [
      {
       "metadata": {},
       "output_type": "pyout",
       "prompt_number": 30,
       "text": [
        "<class 'pandas.tseries.index.DatetimeIndex'>\n",
        "[2012-07-08, ..., 2012-09-08]\n",
        "Length: 16, Freq: None, Timezone: None"
       ]
      }
     ],
     "prompt_number": 30
    },
    {
     "cell_type": "markdown",
     "metadata": {},
     "source": [
      "Lets do some basic plotting:"
     ]
    },
    {
     "cell_type": "code",
     "collapsed": false,
     "input": [
      "df.Max_Temp.plot()"
     ],
     "language": "python",
     "metadata": {},
     "outputs": [
      {
       "metadata": {},
       "output_type": "pyout",
       "prompt_number": 32,
       "text": [
        "<matplotlib.axes.AxesSubplot at 0x4e2a2d0>"
       ]
      },
      {
       "metadata": {},
       "output_type": "display_data",
       "png": "[encoded data removed]",
       "text": [
        "<matplotlib.figure.Figure at 0x4e24f90>"
       ]
      }
     ],
     "prompt_number": 32
    },
    {
     "cell_type": "markdown",
     "metadata": {},
     "source": [
      "Do a bar plot of total precip on days warmer than 12C, if precip > 0\n"
     ]
    },
    {
     "cell_type": "code",
     "collapsed": false,
     "input": [
      "df[ ( df.Mean_Temp > 15) & (df.Total_Precip > 0) ].Total_Precip.plot(kind=\"barh\", rot=10)"
     ],
     "language": "python",
     "metadata": {},
     "outputs": [
      {
       "metadata": {},
       "output_type": "pyout",
       "prompt_number": 33,
       "text": [
        "<matplotlib.axes.AxesSubplot at 0x5417210>"
       ]
      },
      {
       "metadata": {},
       "output_type": "display_data",
       "png": "[encoded data removed]",
       "text": [
        "<matplotlib.figure.Figure at 0x542d7d0>"
       ]
      }
     ],
     "prompt_number": 33
    },
    {
     "cell_type": "markdown",
     "metadata": {},
     "source": [
      "Lets resample to a 5 day interval and then plot the result"
     ]
    },
    {
     "cell_type": "code",
     "collapsed": false,
     "input": [
      "df.Max_Temp.plot(linewidth=1)\n",
      "df.Max_Temp.resample('5d').plot(color='r',linewidth=3)\n",
      "plt.title('Resampled to 5 day means')"
     ],
     "language": "python",
     "metadata": {},
     "outputs": [
      {
       "metadata": {},
       "output_type": "pyout",
       "prompt_number": 35,
       "text": [
        "<matplotlib.text.Text at 0x58a7310>"
       ]
      },
      {
       "metadata": {},
       "output_type": "display_data",
       "png": "[encoded data removed]",
       "text": [
        "<matplotlib.figure.Figure at 0x5bbc110>"
       ]
      }
     ],
     "prompt_number": 35
    },
    {
     "cell_type": "code",
     "collapsed": false,
     "input": [],
     "language": "python",
     "metadata": {},
     "outputs": []
    }
   ],
   "metadata": {}
  }
 ]
}