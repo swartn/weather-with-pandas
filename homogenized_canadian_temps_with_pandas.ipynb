{
 "metadata": {
  "name": "",
  "signature": "sha256:b8c704b6f4fcfba8dbf68ae7b3d9e7b4f068a1ad47f23871a6b1d838775e1981"
 },
 "nbformat": 3,
 "nbformat_minor": 0,
 "worksheets": [
  {
   "cells": [
    {
     "cell_type": "markdown",
     "metadata": {},
     "source": [
      "# Exploring homogenized Canadian monthly mean temperatures\n"
     ]
    },
    {
     "cell_type": "markdown",
     "metadata": {},
     "source": [
      "This post serves the dual purpose of being a follow-on tutorial on using pandas to look at weather data, and also as an exploratory post on how appropriate the homogenized data might be for some of my projects.\n",
      "\n",
      "The background is that I've been working on a dynamic, django based website, that would allows users to look at plots of the near real time-time weather being recorded by Environment Canada (EC) stations, and to compare it to historical norms and extremes. In a previous post [Weather with Pandas](http://swartn.github.io/weather-with-pandas.html), I discussed some techniques for accessing this EC weather station data directly from the API on the EC-weather site. There is a major problem, it turns out. The weather available on the EC site is basically raw station data. Every few years, old stations are replaced with new ones and the type of equipment used to make the measurements might change, the site's position might change by a few metres or more, and the site might dissappear entirely. Whenever such a change is made to a site, EC gives it a new station code and even sometimes a new name. Thus for any one location there may be tens of \"stations\", which all cover diffrent periods, with slightly different measurement characteristics. All these changes mean that it is basically impossible to use the \"raw\" data available through the EC-weather API to calculate long term averages, extremes, or trends. Basically you cannot use it for climate analysis. \n",
      "\n",
      "All is not lost though. Scientists in the EC Climate Research Division have produced \"homogenized\" data which does not have any of these problems. It's not available for every variable, but there is surface temperature. To produce these homogenized surface temperatures for any one location, let's say Shawnigan Lake, all the stations are joined into one record, which is carefully checked for consistency, and \"homogenized\" so that there are no jumps due to changes in equipment or location etc. There are lots of challenges in producing this homogenized data, that are fully described in the documentation and associated publications, and I won't consider any of those details. Here, I want to explore this homogenized surface temperature data just to get a feel for it. The data is available here:\n",
      "\n",
      "    http://www.ec.gc.ca/dccha-ahccd/default.asp?lang=en&n=1EEECD01-1\n",
      "    \n",
      "I downloaded the documentation, station list, and \"Monthly mean of daily mean temperature\". The last of these is a zip archive that you need to extract. So what I have is:\n",
      "\n",
      "    Temperature_Stations.xls\n",
      "    Homog_monthly_mean_temp/\n",
      "    \n",
      "Within Homog_monthly_mean_temp/ there are about 340 txt files, starting with \"mm\" for \"monthly mean\", then a number indicating the station id. Those files contain the station id, name and the data, but not much else info. on the station. More detail on the stations (location etc) is provided in Temperature_Stations.xls. We'll use pandas to examine the timeseries as before, and we'll use basemap to map the station locations. The objectives here are to:\n",
      "\n",
      "  1. Figure out how to load in the station names etc from the xls file.\n",
      "  2. Set up a good system for loading in the data from the .txt files into a dataframe.\n",
      "  3. Look at the properties of one station (Vancouver) in some detail: we'll calculate a climatology, and look at some extremes.\n",
      "  4. Look at all the data from across Canada, and look for some interesting signals, mostly a quick and dirty look at the global warming signal.\n",
      " "
     ]
    },
    {
     "cell_type": "code",
     "collapsed": false,
     "input": [
      "# Start off importing some basic pyhton stuff that we will need.\n",
      "import os\n",
      "import pandas as pd\n",
      "import numpy as np\n",
      "\n",
      "# plotting stuff\n",
      "%pylab inline\n",
      "# set the plot fontsize\n",
      "font = {'size'   : 14}\n",
      "matplotlib.rc('font', **font)\n",
      "\n",
      "# Set default figure size for this notebook\n",
      "pylab.rcParams['figure.figsize'] = (8.0, 6.4)"
     ],
     "language": "python",
     "metadata": {},
     "outputs": [
      {
       "output_type": "stream",
       "stream": "stdout",
       "text": [
        "Populating the interactive namespace from numpy and matplotlib\n"
       ]
      }
     ],
     "prompt_number": 748
    },
    {
     "cell_type": "markdown",
     "metadata": {},
     "source": [
      "We can load in the station information using the pandas read_excel function. There file has English and French headers. I just want to keep the English ones, so I'll specify the header column accordingly as 2, and to skip row 3 (French)."
     ]
    },
    {
     "cell_type": "code",
     "collapsed": false,
     "input": [
      "stns = pd.read_excel('Temperature_Stations.xls', header=2, skiprows=[3])"
     ],
     "language": "python",
     "metadata": {},
     "outputs": [],
     "prompt_number": 749
    },
    {
     "cell_type": "markdown",
     "metadata": {},
     "source": [
      "Lets look at the first ten rows to get a feeling for the type of information, and get the shape so that we know how many stations that there are."
     ]
    },
    {
     "cell_type": "code",
     "collapsed": false,
     "input": [
      "stns.head(10)"
     ],
     "language": "python",
     "metadata": {},
     "outputs": [
      {
       "html": [
        "<div style=\"max-height:1000px;max-width:1500px;overflow:auto;\">\n",
        "<table border=\"1\" class=\"dataframe\">\n",
        "  <thead>\n",
        "    <tr style=\"text-align: right;\">\n",
        "      <th></th>\n",
        "      <th>Prov</th>\n",
        "      <th>station's name</th>\n",
        "      <th>stnid</th>\n",
        "      <th>beg yr</th>\n",
        "      <th>beg mon </th>\n",
        "      <th>end yr</th>\n",
        "      <th>end mon</th>\n",
        "      <th>lat (deg)</th>\n",
        "      <th>long (deg)</th>\n",
        "      <th>elev (m)</th>\n",
        "      <th>stns joined</th>\n",
        "    </tr>\n",
        "  </thead>\n",
        "  <tbody>\n",
        "    <tr>\n",
        "      <th>0</th>\n",
        "      <td> BC</td>\n",
        "      <td>       AGASSIZ</td>\n",
        "      <td> 1100120</td>\n",
        "      <td> 1893</td>\n",
        "      <td>  1</td>\n",
        "      <td> 2012</td>\n",
        "      <td> 12</td>\n",
        "      <td> 49.25</td>\n",
        "      <td>-121.77</td>\n",
        "      <td>   15</td>\n",
        "      <td> N</td>\n",
        "    </tr>\n",
        "    <tr>\n",
        "      <th>1</th>\n",
        "      <td> BC</td>\n",
        "      <td>         ATLIN</td>\n",
        "      <td> 1200560</td>\n",
        "      <td> 1905</td>\n",
        "      <td>  8</td>\n",
        "      <td> 2012</td>\n",
        "      <td> 12</td>\n",
        "      <td> 59.57</td>\n",
        "      <td>-133.70</td>\n",
        "      <td>  674</td>\n",
        "      <td> N</td>\n",
        "    </tr>\n",
        "    <tr>\n",
        "      <th>2</th>\n",
        "      <td> BC</td>\n",
        "      <td>   BARKERVILLE</td>\n",
        "      <td> 1090660</td>\n",
        "      <td> 1888</td>\n",
        "      <td>  2</td>\n",
        "      <td> 2012</td>\n",
        "      <td> 10</td>\n",
        "      <td> 53.07</td>\n",
        "      <td>-121.52</td>\n",
        "      <td> 1265</td>\n",
        "      <td> N</td>\n",
        "    </tr>\n",
        "    <tr>\n",
        "      <th>3</th>\n",
        "      <td> BC</td>\n",
        "      <td>    BEAVERDELL</td>\n",
        "      <td> 1130771</td>\n",
        "      <td> 1939</td>\n",
        "      <td>  1</td>\n",
        "      <td> 2006</td>\n",
        "      <td>  9</td>\n",
        "      <td> 49.48</td>\n",
        "      <td>-119.05</td>\n",
        "      <td>  838</td>\n",
        "      <td> Y</td>\n",
        "    </tr>\n",
        "    <tr>\n",
        "      <th>4</th>\n",
        "      <td> BC</td>\n",
        "      <td>   BELLA COOLA</td>\n",
        "      <td> 1060841</td>\n",
        "      <td> 1895</td>\n",
        "      <td>  5</td>\n",
        "      <td> 2012</td>\n",
        "      <td> 12</td>\n",
        "      <td> 52.37</td>\n",
        "      <td>-126.68</td>\n",
        "      <td>   18</td>\n",
        "      <td> Y</td>\n",
        "    </tr>\n",
        "    <tr>\n",
        "      <th>5</th>\n",
        "      <td> BC</td>\n",
        "      <td> BLIND CHANNEL</td>\n",
        "      <td> 1021480</td>\n",
        "      <td> 1958</td>\n",
        "      <td>  7</td>\n",
        "      <td> 2012</td>\n",
        "      <td>  9</td>\n",
        "      <td> 50.42</td>\n",
        "      <td>-125.50</td>\n",
        "      <td>   23</td>\n",
        "      <td> N</td>\n",
        "    </tr>\n",
        "    <tr>\n",
        "      <th>6</th>\n",
        "      <td> BC</td>\n",
        "      <td>    BLUE RIVER</td>\n",
        "      <td> 1160899</td>\n",
        "      <td> 1946</td>\n",
        "      <td>  9</td>\n",
        "      <td> 2012</td>\n",
        "      <td> 12</td>\n",
        "      <td> 52.13</td>\n",
        "      <td>-119.28</td>\n",
        "      <td>  683</td>\n",
        "      <td> Y</td>\n",
        "    </tr>\n",
        "    <tr>\n",
        "      <th>7</th>\n",
        "      <td> BC</td>\n",
        "      <td>    CAPE SCOTT</td>\n",
        "      <td> 1031353</td>\n",
        "      <td> 1921</td>\n",
        "      <td>  7</td>\n",
        "      <td> 2012</td>\n",
        "      <td>  1</td>\n",
        "      <td> 50.78</td>\n",
        "      <td>-128.43</td>\n",
        "      <td>   72</td>\n",
        "      <td> Y</td>\n",
        "    </tr>\n",
        "    <tr>\n",
        "      <th>8</th>\n",
        "      <td> BC</td>\n",
        "      <td> CAPE ST JAMES</td>\n",
        "      <td> 1051351</td>\n",
        "      <td> 1944</td>\n",
        "      <td> 12</td>\n",
        "      <td> 2012</td>\n",
        "      <td> 12</td>\n",
        "      <td> 51.93</td>\n",
        "      <td>-131.02</td>\n",
        "      <td>   89</td>\n",
        "      <td> Y</td>\n",
        "    </tr>\n",
        "    <tr>\n",
        "      <th>9</th>\n",
        "      <td> BC</td>\n",
        "      <td> CARIBOO LODGE</td>\n",
        "      <td> 1171393</td>\n",
        "      <td> 1914</td>\n",
        "      <td>  1</td>\n",
        "      <td> 2012</td>\n",
        "      <td>  8</td>\n",
        "      <td> 52.72</td>\n",
        "      <td>-119.47</td>\n",
        "      <td> 1096</td>\n",
        "      <td> Y</td>\n",
        "    </tr>\n",
        "  </tbody>\n",
        "</table>\n",
        "</div>"
       ],
       "metadata": {},
       "output_type": "pyout",
       "prompt_number": 750,
       "text": [
        "  Prov station's name    stnid  beg yr  beg mon   end yr  end mon  lat (deg)  \\\n",
        "0   BC        AGASSIZ  1100120    1893         1    2012       12      49.25   \n",
        "1   BC          ATLIN  1200560    1905         8    2012       12      59.57   \n",
        "2   BC    BARKERVILLE  1090660    1888         2    2012       10      53.07   \n",
        "3   BC     BEAVERDELL  1130771    1939         1    2006        9      49.48   \n",
        "4   BC    BELLA COOLA  1060841    1895         5    2012       12      52.37   \n",
        "5   BC  BLIND CHANNEL  1021480    1958         7    2012        9      50.42   \n",
        "6   BC     BLUE RIVER  1160899    1946         9    2012       12      52.13   \n",
        "7   BC     CAPE SCOTT  1031353    1921         7    2012        1      50.78   \n",
        "8   BC  CAPE ST JAMES  1051351    1944        12    2012       12      51.93   \n",
        "9   BC  CARIBOO LODGE  1171393    1914         1    2012        8      52.72   \n",
        "\n",
        "   long (deg)  elev (m) stns joined  \n",
        "0     -121.77        15           N  \n",
        "1     -133.70       674           N  \n",
        "2     -121.52      1265           N  \n",
        "3     -119.05       838           Y  \n",
        "4     -126.68        18           Y  \n",
        "5     -125.50        23           N  \n",
        "6     -119.28       683           Y  \n",
        "7     -128.43        72           Y  \n",
        "8     -131.02        89           Y  \n",
        "9     -119.47      1096           Y  "
       ]
      }
     ],
     "prompt_number": 750
    },
    {
     "cell_type": "code",
     "collapsed": false,
     "input": [
      "stns.shape"
     ],
     "language": "python",
     "metadata": {},
     "outputs": [
      {
       "metadata": {},
       "output_type": "pyout",
       "prompt_number": 751,
       "text": [
        "(338, 11)"
       ]
      }
     ],
     "prompt_number": 751
    },
    {
     "cell_type": "markdown",
     "metadata": {},
     "source": [
      "Okay so we have 338 stations across Canada, and information on the station name, id, province, date-span and 3D position. Lets find info on Vancouver stations so that we can explore those further. We can use the _str_ method and _contains_ to find the station by name."
     ]
    },
    {
     "cell_type": "code",
     "collapsed": false,
     "input": [
      "stns[ stns[\"station's name\"].str.contains('VANCOUVER') ]"
     ],
     "language": "python",
     "metadata": {},
     "outputs": [
      {
       "html": [
        "<div style=\"max-height:1000px;max-width:1500px;overflow:auto;\">\n",
        "<table border=\"1\" class=\"dataframe\">\n",
        "  <thead>\n",
        "    <tr style=\"text-align: right;\">\n",
        "      <th></th>\n",
        "      <th>Prov</th>\n",
        "      <th>station's name</th>\n",
        "      <th>stnid</th>\n",
        "      <th>beg yr</th>\n",
        "      <th>beg mon </th>\n",
        "      <th>end yr</th>\n",
        "      <th>end mon</th>\n",
        "      <th>lat (deg)</th>\n",
        "      <th>long (deg)</th>\n",
        "      <th>elev (m)</th>\n",
        "      <th>stns joined</th>\n",
        "    </tr>\n",
        "  </thead>\n",
        "  <tbody>\n",
        "    <tr>\n",
        "      <th>47</th>\n",
        "      <td> BC</td>\n",
        "      <td> VANCOUVER</td>\n",
        "      <td> 1108447</td>\n",
        "      <td> 1896</td>\n",
        "      <td> 2</td>\n",
        "      <td> 2012</td>\n",
        "      <td> 12</td>\n",
        "      <td> 49.2</td>\n",
        "      <td>-123.18</td>\n",
        "      <td> 4</td>\n",
        "      <td> Y</td>\n",
        "    </tr>\n",
        "  </tbody>\n",
        "</table>\n",
        "</div>"
       ],
       "metadata": {},
       "output_type": "pyout",
       "prompt_number": 752,
       "text": [
        "   Prov station's name    stnid  beg yr  beg mon   end yr  end mon  lat (deg)  \\\n",
        "47   BC      VANCOUVER  1108447    1896         2    2012       12       49.2   \n",
        "\n",
        "    long (deg)  elev (m) stns joined  \n",
        "47     -123.18         4           Y  "
       ]
      }
     ],
     "prompt_number": 752
    },
    {
     "cell_type": "markdown",
     "metadata": {},
     "source": [
      "So now that we know the stnid for Vancouver, we can load in the corresponding .txt file and have a look. I'm going to skip rows 0,1 and 3, since those contain the French header and other unwanted stuff. "
     ]
    },
    {
     "cell_type": "code",
     "collapsed": false,
     "input": [
      "s = pd.read_csv('Homog_monthly_mean_temp/mm1108447.txt',skiprows=[0,1,3], index_col=False)\n",
      "s.head(2)"
     ],
     "language": "python",
     "metadata": {},
     "outputs": [
      {
       "html": [
        "<div style=\"max-height:1000px;max-width:1500px;overflow:auto;\">\n",
        "<table border=\"1\" class=\"dataframe\">\n",
        "  <thead>\n",
        "    <tr style=\"text-align: right;\">\n",
        "      <th></th>\n",
        "      <th> Year</th>\n",
        "      <th>     Jan</th>\n",
        "      <th> </th>\n",
        "      <th>     Feb</th>\n",
        "      <th> .1</th>\n",
        "      <th>     Mar</th>\n",
        "      <th> .2</th>\n",
        "      <th>     Apr</th>\n",
        "      <th> .3</th>\n",
        "      <th>     May</th>\n",
        "      <th>...</th>\n",
        "      <th> .11</th>\n",
        "      <th>  Annual</th>\n",
        "      <th> .12</th>\n",
        "      <th>  Winter</th>\n",
        "      <th> .13</th>\n",
        "      <th>  Spring</th>\n",
        "      <th> .14</th>\n",
        "      <th>  Summer</th>\n",
        "      <th> .15</th>\n",
        "      <th>  Autumn</th>\n",
        "    </tr>\n",
        "  </thead>\n",
        "  <tbody>\n",
        "    <tr>\n",
        "      <th>0</th>\n",
        "      <td> 1896</td>\n",
        "      <td>-9999.9</td>\n",
        "      <td> M</td>\n",
        "      <td> 4.8</td>\n",
        "      <td>  </td>\n",
        "      <td> 4.0</td>\n",
        "      <td>  </td>\n",
        "      <td> 7.3</td>\n",
        "      <td>  </td>\n",
        "      <td> 10.4</td>\n",
        "      <td>...</td>\n",
        "      <td>  </td>\n",
        "      <td>-9999.9</td>\n",
        "      <td> M</td>\n",
        "      <td>-9999.9</td>\n",
        "      <td> M</td>\n",
        "      <td> 7.2</td>\n",
        "      <td>  </td>\n",
        "      <td> 15.3</td>\n",
        "      <td>  </td>\n",
        "      <td> 7.1</td>\n",
        "    </tr>\n",
        "    <tr>\n",
        "      <th>1</th>\n",
        "      <td> 1897</td>\n",
        "      <td>    3.0</td>\n",
        "      <td>  </td>\n",
        "      <td> 3.9</td>\n",
        "      <td>  </td>\n",
        "      <td> 3.2</td>\n",
        "      <td>  </td>\n",
        "      <td> 8.9</td>\n",
        "      <td>  </td>\n",
        "      <td> 12.5</td>\n",
        "      <td>...</td>\n",
        "      <td>  </td>\n",
        "      <td>    9.0</td>\n",
        "      <td>  </td>\n",
        "      <td>    4.1</td>\n",
        "      <td>  </td>\n",
        "      <td> 8.2</td>\n",
        "      <td>  </td>\n",
        "      <td> 15.7</td>\n",
        "      <td>  </td>\n",
        "      <td> 8.4</td>\n",
        "    </tr>\n",
        "  </tbody>\n",
        "</table>\n",
        "<p>2 rows \u00d7 34 columns</p>\n",
        "</div>"
       ],
       "metadata": {},
       "output_type": "pyout",
       "prompt_number": 753,
       "text": [
        "    Year       Jan          Feb  .1       Mar  .2       Apr  .3       May  \\\n",
        "0   1896   -9999.9  M       4.8           4.0           7.3          10.4   \n",
        "1   1897       3.0          3.9           3.2           8.9          12.5   \n",
        "\n",
        "     ...     .11    Annual  .12    Winter  .13    Spring  .14    Summer  .15  \\\n",
        "0    ...           -9999.9    M   -9999.9    M       7.2           15.3        \n",
        "1    ...               9.0            4.1            8.2           15.7        \n",
        "\n",
        "     Autumn  \n",
        "0       7.1  \n",
        "1       8.4  \n",
        "\n",
        "[2 rows x 34 columns]"
       ]
      }
     ],
     "prompt_number": 753
    },
    {
     "cell_type": "markdown",
     "metadata": {},
     "source": [
      "Let's look a bit more at the headers."
     ]
    },
    {
     "cell_type": "code",
     "collapsed": false,
     "input": [
      "s.columns"
     ],
     "language": "python",
     "metadata": {},
     "outputs": [
      {
       "metadata": {},
       "output_type": "pyout",
       "prompt_number": 754,
       "text": [
        "Index([u' Year', u'     Jan', u' ', u'     Feb', u' .1', u'     Mar', u' .2', u'     Apr', u' .3', u'     May', u' .4', u'     Jun', u' .5', u'     Jul', u' .6', u'     Aug', u' .7', u'     Sep', u' .8', u'     Oct', u' .9', u'     Nov', u' .10', u'     Dec', u' .11', u'  Annual', u' .12', u'  Winter', u' .13', u'  Spring', u' .14', u'  Summer', u' .15', u'  Autumn'], dtype='object')"
       ]
      }
     ],
     "prompt_number": 754
    },
    {
     "cell_type": "markdown",
     "metadata": {},
     "source": [
      "The column names have a lot of whitespace in them that we want to get rid of. To get rid of the white space in a string, you can use the str.strip() method. To loop over all the column names, we'll use a lambda function. We'll also use the rename function from pandas to rename the columns in place."
     ]
    },
    {
     "cell_type": "code",
     "collapsed": false,
     "input": [
      "s = s.rename(columns=lambda x: x.strip())\n",
      "s.columns"
     ],
     "language": "python",
     "metadata": {},
     "outputs": [
      {
       "metadata": {},
       "output_type": "pyout",
       "prompt_number": 755,
       "text": [
        "Index([u'Year', u'Jan', u'', u'Feb', u'.1', u'Mar', u'.2', u'Apr', u'.3', u'May', u'.4', u'Jun', u'.5', u'Jul', u'.6', u'Aug', u'.7', u'Sep', u'.8', u'Oct', u'.9', u'Nov', u'.10', u'Dec', u'.11', u'Annual', u'.12', u'Winter', u'.13', u'Spring', u'.14', u'Summer', u'.15', u'Autumn'], dtype='object')"
       ]
      }
     ],
     "prompt_number": 755
    },
    {
     "cell_type": "markdown",
     "metadata": {},
     "source": [
      "As you can see all the whitespace is now gone. We are left with columns for each month, as well as the seasonal and annual means. Above we saw that there are columns with letters (\"a\", \"M\" etc) following each column of data. Those letters are flags for the quality of the data, and are described in the documentation. For this exercise lets just assume that all the data is of good quality, and get rid of the flag columns. One way to filter a dataframe is by using regular expressions. For example, if we just wanted to get the columns for months starting with a \"M\", we could do this:"
     ]
    },
    {
     "cell_type": "code",
     "collapsed": false,
     "input": [
      "s.filter(regex='^M').head(2)"
     ],
     "language": "python",
     "metadata": {},
     "outputs": [
      {
       "html": [
        "<div style=\"max-height:1000px;max-width:1500px;overflow:auto;\">\n",
        "<table border=\"1\" class=\"dataframe\">\n",
        "  <thead>\n",
        "    <tr style=\"text-align: right;\">\n",
        "      <th></th>\n",
        "      <th>Mar</th>\n",
        "      <th>May</th>\n",
        "    </tr>\n",
        "  </thead>\n",
        "  <tbody>\n",
        "    <tr>\n",
        "      <th>0</th>\n",
        "      <td> 4.0</td>\n",
        "      <td> 10.4</td>\n",
        "    </tr>\n",
        "    <tr>\n",
        "      <th>1</th>\n",
        "      <td> 3.2</td>\n",
        "      <td> 12.5</td>\n",
        "    </tr>\n",
        "  </tbody>\n",
        "</table>\n",
        "</div>"
       ],
       "metadata": {},
       "output_type": "pyout",
       "prompt_number": 756,
       "text": [
        "   Mar   May\n",
        "0  4.0  10.4\n",
        "1  3.2  12.5"
       ]
      }
     ],
     "prompt_number": 756
    },
    {
     "cell_type": "markdown",
     "metadata": {},
     "source": [
      "So above we used the filter method, and used a regular expression to find all columns starting with \"M\". The carrot (^) means \"starting with\". Regular expressions are a powerful tool used for pattern matching in all types of programming. What we want to do here is just find the columns of s that contain letters. We'll use a regex to do a match of any letters between a and z. To indicate the range we use square brackets, like this []. We'll also use the plus sign to indicate match \"one or more\" letters. Here goes:"
     ]
    },
    {
     "cell_type": "code",
     "collapsed": false,
     "input": [
      "s = s.filter(regex='[a-z]+')\n",
      "s.head(2)"
     ],
     "language": "python",
     "metadata": {},
     "outputs": [
      {
       "html": [
        "<div style=\"max-height:1000px;max-width:1500px;overflow:auto;\">\n",
        "<table border=\"1\" class=\"dataframe\">\n",
        "  <thead>\n",
        "    <tr style=\"text-align: right;\">\n",
        "      <th></th>\n",
        "      <th>Year</th>\n",
        "      <th>Jan</th>\n",
        "      <th>Feb</th>\n",
        "      <th>Mar</th>\n",
        "      <th>Apr</th>\n",
        "      <th>May</th>\n",
        "      <th>Jun</th>\n",
        "      <th>Jul</th>\n",
        "      <th>Aug</th>\n",
        "      <th>Sep</th>\n",
        "      <th>Oct</th>\n",
        "      <th>Nov</th>\n",
        "      <th>Dec</th>\n",
        "      <th>Annual</th>\n",
        "      <th>Winter</th>\n",
        "      <th>Spring</th>\n",
        "      <th>Summer</th>\n",
        "      <th>Autumn</th>\n",
        "    </tr>\n",
        "  </thead>\n",
        "  <tbody>\n",
        "    <tr>\n",
        "      <th>0</th>\n",
        "      <td> 1896</td>\n",
        "      <td>-9999.9</td>\n",
        "      <td> 4.8</td>\n",
        "      <td> 4.0</td>\n",
        "      <td> 7.3</td>\n",
        "      <td> 10.4</td>\n",
        "      <td> 13.9</td>\n",
        "      <td> 16.4</td>\n",
        "      <td> 15.7</td>\n",
        "      <td> 11.6</td>\n",
        "      <td> 9</td>\n",
        "      <td> 0.6</td>\n",
        "      <td> 5.5</td>\n",
        "      <td>-9999.9</td>\n",
        "      <td>-9999.9</td>\n",
        "      <td> 7.2</td>\n",
        "      <td> 15.3</td>\n",
        "      <td> 7.1</td>\n",
        "    </tr>\n",
        "    <tr>\n",
        "      <th>1</th>\n",
        "      <td> 1897</td>\n",
        "      <td>    3.0</td>\n",
        "      <td> 3.9</td>\n",
        "      <td> 3.2</td>\n",
        "      <td> 8.9</td>\n",
        "      <td> 12.5</td>\n",
        "      <td> 15.1</td>\n",
        "      <td> 15.0</td>\n",
        "      <td> 16.9</td>\n",
        "      <td> 11.9</td>\n",
        "      <td> 9</td>\n",
        "      <td> 4.3</td>\n",
        "      <td> 4.1</td>\n",
        "      <td>    9.0</td>\n",
        "      <td>    4.1</td>\n",
        "      <td> 8.2</td>\n",
        "      <td> 15.7</td>\n",
        "      <td> 8.4</td>\n",
        "    </tr>\n",
        "  </tbody>\n",
        "</table>\n",
        "</div>"
       ],
       "metadata": {},
       "output_type": "pyout",
       "prompt_number": 757,
       "text": [
        "   Year     Jan  Feb  Mar  Apr   May   Jun   Jul   Aug   Sep  Oct  Nov  Dec  \\\n",
        "0  1896 -9999.9  4.8  4.0  7.3  10.4  13.9  16.4  15.7  11.6    9  0.6  5.5   \n",
        "1  1897     3.0  3.9  3.2  8.9  12.5  15.1  15.0  16.9  11.9    9  4.3  4.1   \n",
        "\n",
        "   Annual  Winter  Spring  Summer  Autumn  \n",
        "0 -9999.9 -9999.9     7.2    15.3     7.1  \n",
        "1     9.0     4.1     8.2    15.7     8.4  "
       ]
      }
     ],
     "prompt_number": 757
    },
    {
     "cell_type": "markdown",
     "metadata": {},
     "source": [
      "So we have been successfull in keeping only the columns we want (getting rid of the flags). Now lets replace the missing value flag (-9999.9) with a proper nan value"
     ]
    },
    {
     "cell_type": "code",
     "collapsed": false,
     "input": [
      "s = s.replace(-9999.9, np.nan)\n",
      "s.head(2)"
     ],
     "language": "python",
     "metadata": {},
     "outputs": [
      {
       "html": [
        "<div style=\"max-height:1000px;max-width:1500px;overflow:auto;\">\n",
        "<table border=\"1\" class=\"dataframe\">\n",
        "  <thead>\n",
        "    <tr style=\"text-align: right;\">\n",
        "      <th></th>\n",
        "      <th>Year</th>\n",
        "      <th>Jan</th>\n",
        "      <th>Feb</th>\n",
        "      <th>Mar</th>\n",
        "      <th>Apr</th>\n",
        "      <th>May</th>\n",
        "      <th>Jun</th>\n",
        "      <th>Jul</th>\n",
        "      <th>Aug</th>\n",
        "      <th>Sep</th>\n",
        "      <th>Oct</th>\n",
        "      <th>Nov</th>\n",
        "      <th>Dec</th>\n",
        "      <th>Annual</th>\n",
        "      <th>Winter</th>\n",
        "      <th>Spring</th>\n",
        "      <th>Summer</th>\n",
        "      <th>Autumn</th>\n",
        "    </tr>\n",
        "  </thead>\n",
        "  <tbody>\n",
        "    <tr>\n",
        "      <th>0</th>\n",
        "      <td> 1896</td>\n",
        "      <td>NaN</td>\n",
        "      <td> 4.8</td>\n",
        "      <td> 4.0</td>\n",
        "      <td> 7.3</td>\n",
        "      <td> 10.4</td>\n",
        "      <td> 13.9</td>\n",
        "      <td> 16.4</td>\n",
        "      <td> 15.7</td>\n",
        "      <td> 11.6</td>\n",
        "      <td> 9</td>\n",
        "      <td> 0.6</td>\n",
        "      <td> 5.5</td>\n",
        "      <td>NaN</td>\n",
        "      <td> NaN</td>\n",
        "      <td> 7.2</td>\n",
        "      <td> 15.3</td>\n",
        "      <td> 7.1</td>\n",
        "    </tr>\n",
        "    <tr>\n",
        "      <th>1</th>\n",
        "      <td> 1897</td>\n",
        "      <td>  3</td>\n",
        "      <td> 3.9</td>\n",
        "      <td> 3.2</td>\n",
        "      <td> 8.9</td>\n",
        "      <td> 12.5</td>\n",
        "      <td> 15.1</td>\n",
        "      <td> 15.0</td>\n",
        "      <td> 16.9</td>\n",
        "      <td> 11.9</td>\n",
        "      <td> 9</td>\n",
        "      <td> 4.3</td>\n",
        "      <td> 4.1</td>\n",
        "      <td>  9</td>\n",
        "      <td> 4.1</td>\n",
        "      <td> 8.2</td>\n",
        "      <td> 15.7</td>\n",
        "      <td> 8.4</td>\n",
        "    </tr>\n",
        "  </tbody>\n",
        "</table>\n",
        "</div>"
       ],
       "metadata": {},
       "output_type": "pyout",
       "prompt_number": 758,
       "text": [
        "   Year  Jan  Feb  Mar  Apr   May   Jun   Jul   Aug   Sep  Oct  Nov  Dec  \\\n",
        "0  1896  NaN  4.8  4.0  7.3  10.4  13.9  16.4  15.7  11.6    9  0.6  5.5   \n",
        "1  1897    3  3.9  3.2  8.9  12.5  15.1  15.0  16.9  11.9    9  4.3  4.1   \n",
        "\n",
        "   Annual  Winter  Spring  Summer  Autumn  \n",
        "0     NaN     NaN     7.2    15.3     7.1  \n",
        "1       9     4.1     8.2    15.7     8.4  "
       ]
      }
     ],
     "prompt_number": 758
    },
    {
     "cell_type": "markdown",
     "metadata": {},
     "source": [
      "Okay, we now have cleaned up the data enough that we can start to look at it. Let's start with a basic description so we can see the min, max and average of the Annual mean temperature in Vancouver."
     ]
    },
    {
     "cell_type": "code",
     "collapsed": false,
     "input": [
      "s.Annual.describe()"
     ],
     "language": "python",
     "metadata": {},
     "outputs": [
      {
       "metadata": {},
       "output_type": "pyout",
       "prompt_number": 759,
       "text": [
        "count    116.000000\n",
        "mean       9.771552\n",
        "std        0.781393\n",
        "min        7.900000\n",
        "25%        9.175000\n",
        "50%        9.850000\n",
        "75%       10.300000\n",
        "max       11.500000\n",
        "dtype: float64"
       ]
      }
     ],
     "prompt_number": 759
    },
    {
     "cell_type": "markdown",
     "metadata": {},
     "source": [
      "Okay, so lets find out which is the warmest year(s) on record"
     ]
    },
    {
     "cell_type": "code",
     "collapsed": false,
     "input": [
      "s.Year[ s.Annual == s.Annual.max() ]"
     ],
     "language": "python",
     "metadata": {},
     "outputs": [
      {
       "metadata": {},
       "output_type": "pyout",
       "prompt_number": 760,
       "text": [
        "62     1958\n",
        "108    2004\n",
        "Name: Year, dtype: int64"
       ]
      }
     ],
     "prompt_number": 760
    },
    {
     "cell_type": "markdown",
     "metadata": {},
     "source": [
      "...and the coldest year"
     ]
    },
    {
     "cell_type": "code",
     "collapsed": false,
     "input": [
      "s.Year[s.Annual == s.Annual.min() ]"
     ],
     "language": "python",
     "metadata": {},
     "outputs": [
      {
       "metadata": {},
       "output_type": "pyout",
       "prompt_number": 761,
       "text": [
        "20    1916\n",
        "Name: Year, dtype: int64"
       ]
      }
     ],
     "prompt_number": 761
    },
    {
     "cell_type": "markdown",
     "metadata": {},
     "source": [
      "Now let's go and look for which was the coldest winter and warmest summer"
     ]
    },
    {
     "cell_type": "code",
     "collapsed": false,
     "input": [
      "s.Year[s.Winter == s.Winter.min()]"
     ],
     "language": "python",
     "metadata": {},
     "outputs": [
      {
       "metadata": {},
       "output_type": "pyout",
       "prompt_number": 762,
       "text": [
        "54    1950\n",
        "Name: Year, dtype: int64"
       ]
      }
     ],
     "prompt_number": 762
    },
    {
     "cell_type": "code",
     "collapsed": false,
     "input": [
      "s.Year[s.Summer == s.Summer.max()]"
     ],
     "language": "python",
     "metadata": {},
     "outputs": [
      {
       "metadata": {},
       "output_type": "pyout",
       "prompt_number": 763,
       "text": [
        "62    1958\n",
        "Name: Year, dtype: int64"
       ]
      }
     ],
     "prompt_number": 763
    },
    {
     "cell_type": "markdown",
     "metadata": {},
     "source": [
      "Ok, so those we some interesting numbers, but now let's produce some visual information on the seasonal cycle. To see what the average temperature change between seasons looks like, we can average the monthly data over several years. A good amount of time to get a reliable average is 30 years, and this is called a climatology. So lets compute the climatology of monthly temperature for the years 1981 to 2010. We won't need the seasonal or annual data for this, so I'll make a new dataframe called `s_months` with just the first 14 columns."
     ]
    },
    {
     "cell_type": "code",
     "collapsed": false,
     "input": [
      "s_months = s[ s.columns[0:13]]\n",
      "s_months.head(2)"
     ],
     "language": "python",
     "metadata": {},
     "outputs": [
      {
       "html": [
        "<div style=\"max-height:1000px;max-width:1500px;overflow:auto;\">\n",
        "<table border=\"1\" class=\"dataframe\">\n",
        "  <thead>\n",
        "    <tr style=\"text-align: right;\">\n",
        "      <th></th>\n",
        "      <th>Year</th>\n",
        "      <th>Jan</th>\n",
        "      <th>Feb</th>\n",
        "      <th>Mar</th>\n",
        "      <th>Apr</th>\n",
        "      <th>May</th>\n",
        "      <th>Jun</th>\n",
        "      <th>Jul</th>\n",
        "      <th>Aug</th>\n",
        "      <th>Sep</th>\n",
        "      <th>Oct</th>\n",
        "      <th>Nov</th>\n",
        "      <th>Dec</th>\n",
        "    </tr>\n",
        "  </thead>\n",
        "  <tbody>\n",
        "    <tr>\n",
        "      <th>0</th>\n",
        "      <td> 1896</td>\n",
        "      <td>NaN</td>\n",
        "      <td> 4.8</td>\n",
        "      <td> 4.0</td>\n",
        "      <td> 7.3</td>\n",
        "      <td> 10.4</td>\n",
        "      <td> 13.9</td>\n",
        "      <td> 16.4</td>\n",
        "      <td> 15.7</td>\n",
        "      <td> 11.6</td>\n",
        "      <td> 9</td>\n",
        "      <td> 0.6</td>\n",
        "      <td> 5.5</td>\n",
        "    </tr>\n",
        "    <tr>\n",
        "      <th>1</th>\n",
        "      <td> 1897</td>\n",
        "      <td>  3</td>\n",
        "      <td> 3.9</td>\n",
        "      <td> 3.2</td>\n",
        "      <td> 8.9</td>\n",
        "      <td> 12.5</td>\n",
        "      <td> 15.1</td>\n",
        "      <td> 15.0</td>\n",
        "      <td> 16.9</td>\n",
        "      <td> 11.9</td>\n",
        "      <td> 9</td>\n",
        "      <td> 4.3</td>\n",
        "      <td> 4.1</td>\n",
        "    </tr>\n",
        "  </tbody>\n",
        "</table>\n",
        "</div>"
       ],
       "metadata": {},
       "output_type": "pyout",
       "prompt_number": 764,
       "text": [
        "   Year  Jan  Feb  Mar  Apr   May   Jun   Jul   Aug   Sep  Oct  Nov  Dec\n",
        "0  1896  NaN  4.8  4.0  7.3  10.4  13.9  16.4  15.7  11.6    9  0.6  5.5\n",
        "1  1897    3  3.9  3.2  8.9  12.5  15.1  15.0  16.9  11.9    9  4.3  4.1"
       ]
      }
     ],
     "prompt_number": 764
    },
    {
     "cell_type": "markdown",
     "metadata": {},
     "source": [
      "Now what we have just the monthly data, lets select out the years between 1981 and 2010 to compute our climatology. We'll compute the mean over those 30 years and plot it up."
     ]
    },
    {
     "cell_type": "code",
     "collapsed": false,
     "input": [
      "s_months_1981_2010 = s_months[(s_months.Year >= 1981) & (s_months.Year<=2010)]\n",
      "clim_1981_2010 = s_months_1981_2010.mean(axis=0)\n",
      "clim_1981_2010.drop('Year').plot(color='k', linewidth=3)\n",
      "plt.ylabel('Monthly mean temp. ($^{\\circ}$C)', fontsize=14)\n",
      "plt.title('Climatology for Vancouver 1981-2010', fontsize=16)"
     ],
     "language": "python",
     "metadata": {},
     "outputs": [
      {
       "metadata": {},
       "output_type": "pyout",
       "prompt_number": 765,
       "text": [
        "<matplotlib.text.Text at 0x17f5e34d0>"
       ]
      },
      {
       "metadata": {},
       "output_type": "display_data",
       "png": "[encoded data removed]",
       "text": [
        "<matplotlib.figure.Figure at 0x17f571310>"
       ]
      }
     ],
     "prompt_number": 765
    },
    {
     "cell_type": "markdown",
     "metadata": {},
     "source": [
      "So, we have a monthly mean temperature of about 18 degrees C in the summer and about 4 degrees C in the winter. The range is about 14 degrees, which is much smaller than some other Canadian cities. The climatology gives us a good idea of how the temperatures change over the year, on average, but of course, any one year can look quite different from the climatology. At this point I think that it is worth it to pause for a second to think about what we are acutally plotting. We loaded in the monthly mean of daily mean temperature, and then we averaged that over 30 years to produce the climatology. So, the above plot tells us that the _daily average_ temperature is about 18 degrees C in summer. But, on any given summer day the temperature will vary quite a lot, normally being warmest in the afternoon and coldest in the early morning. The plot tells us nothing about that. To get an idea of the daily range in temperature, we would need to load in the _monthly mean of daily minimum_  and _monthly mean of daily maximum_ data and plot the climatologies of those along with the daily average. \n",
      "\n",
      "  - If you are reading this as a pandas tutorial, plotting over the climatology of the daily min/max is a good exercise.\n",
      "  - It is also a good idea to think about what would be the appropriate data to use if we were trying to find the month with   the  _hottest_ temperatures on record. The month with the highest _daily maximum_ temperature is not necessarily the same as the month with the highest _daily average_ temperature.\n",
      "  \n",
      "Next lets look at how temperature has changed from year to year in Vancouver. We saw above, using ``s.Annual.describe()``, that the record length (count) is 116 points, which in this case is equal to years. We'll make a plot of the annual mean, summer and winter mean temperatures over the full record."
     ]
    },
    {
     "cell_type": "code",
     "collapsed": false,
     "input": [
      "plt.plot(s.Year, s.Annual, 'k', linewidth=3, label='Annual')\n",
      "plt.plot(s.Year, s.Winter, 'b', label='Winter')\n",
      "plt.plot(s.Year, s.Summer, 'r', label='Summer')\n",
      "plt.ylabel('Monthly mean temp ($^{\\circ}$C)')\n",
      "plt.xlabel('Year')\n",
      "plt.title(stns[stns.stnid==1108447])                       # Add the info from the excel sheet as the title\n",
      "plt.legend(bbox_to_anchor=(1.35,1))                        # put a legend outside the plot using bbox_to_anchor"
     ],
     "language": "python",
     "metadata": {},
     "outputs": [
      {
       "metadata": {},
       "output_type": "pyout",
       "prompt_number": 784,
       "text": [
        "<matplotlib.legend.Legend at 0x1928bc250>"
       ]
      },
      {
       "metadata": {},
       "output_type": "display_data",
       "png": "[encoded data removed]",
       "text": [
        "<matplotlib.figure.Figure at 0x1716aa450>"
       ]
      }
     ],
     "prompt_number": 784
    },
    {
     "cell_type": "markdown",
     "metadata": {},
     "source": [
      "We can see a lot of interesting information here. Again, summer is obviously warming than winter, with the annual mean inbetween at around 10C. For me what is interesting is that the inter-annual variability of the winter temperatures seems much higher than that of the summer or annual means. We can check this formally below. One reason that this might be is because of increased storminess in the winter, which can vary alot from year to year. "
     ]
    },
    {
     "cell_type": "code",
     "collapsed": false,
     "input": [
      "print s.Annual.std(), s.Summer.std(), s.Winter.std()"
     ],
     "language": "python",
     "metadata": {},
     "outputs": [
      {
       "output_type": "stream",
       "stream": "stdout",
       "text": [
        "0.781392962931 0.9672427321 1.34953081541\n"
       ]
      }
     ],
     "prompt_number": 767
    },
    {
     "cell_type": "markdown",
     "metadata": {},
     "source": [
      "Okay, now that we have the hang of things, let's set ourselves up to do some more in depth analysis. One thing we might be interested to look at is whether we can see a global warming signal in the homogenized data. Looking for a signal at any one station will be hard, because of year-to-year variability. Looking at the Vancouver data alone it's a little hard to see a very clear warming signal, but thats partly because of the large y-axis range. But, if we average over many stations the signal should be clearer. To help us let's set up some functions that we can use to automatically process the data from each station. Then we can go in and process the data from every station in Canada quickly and efficiently. Before we start loading all the data though, lets use the excel spreadsheet to get the lat/lons of every available station and plot them on a map to see what type of coverage that we have.\n",
      "\n",
      "Lets map all the the stations. We'll use the basemap toolkit to provide a nice map. basemap does have the ability to outline countries, but you get all or nothing. To get just the outline of Canada, download the GIS shapefile from:\n",
      "\n",
      "    http://biogeo.ucdavis.edu/data/gadm2/shp/CAN_adm.zip\n",
      "    \n",
      "and unzip it. Then we can use the shapefile to plot just the outline of Canada for our map."
     ]
    },
    {
     "cell_type": "code",
     "collapsed": false,
     "input": [
      "plt.figure(figsize=(10,10))\n",
      "\n",
      "# setup Lambert Equal area\n",
      "m = Basemap(width=5500000,height=5000000,projection='laea',\n",
      "            resolution=None,lat_0=62,lon_0=-90.)\n",
      "\n",
      "# plot the outline of Canada by reading from the shapefile.\n",
      "m.readshapefile('CAN_adm/CAN_adm0','Canada',drawbounds=True, linewidth=3);\n",
      "\n",
      "# if the above did not work, you could instead just use the built-in data:\n",
      "#m.fillcontinents(color='coral',lake_color='aqua')\n",
      "#m.drawcountries(linewidth=0.25)\n",
      "\n",
      "# Get the lons and lats off all EC stations\n",
      "lons = stns['long (deg)']\n",
      "lats = stns['lat (deg)']\n",
      "x, y = m(lons[1::].values, lats[1::].values)\n",
      "m.plot(x, y, 'ro', markersize=5)\n",
      "\n",
      "# put on some line of lon and lat\n",
      "parallels = np.arange(0.,81,10.)\n",
      "m.drawparallels(parallels,labels=[False,True,True,False])\n",
      "meridians = np.arange(10.,351.,20.)\n",
      "m.drawmeridians(meridians,labels=[True,False,False,True])\n",
      "plt.show()"
     ],
     "language": "python",
     "metadata": {},
     "outputs": []
    },
    {
     "cell_type": "markdown",
     "metadata": {},
     "source": [
      "Ok, so we have a broad coverage, but the stations are far more concentrated in the south, and quite sparse in the north. We'll have to be aware of that. Now let's define those functions to crunch all the data. Instead of functions I could just load the data, but setting up functions breaks the task into manageable steps, and also produces some useful tools that I might be able to reuse later. From here on we'll just focus on the annual mean data."
     ]
    },
    {
     "cell_type": "code",
     "collapsed": false,
     "input": [
      "def datetime_from_year(years):\n",
      "    \"\"\" get dates from years. Assign years to June 15 for convenience.\"\"\"\n",
      "    dts = pd.datetime(years, 6, 15)\n",
      "    return dts"
     ],
     "language": "python",
     "metadata": {},
     "outputs": []
    },
    {
     "cell_type": "code",
     "collapsed": false,
     "input": [
      "def df_from_txt(infile):\n",
      "    \"\"\" Produce a pandas dataframe from an EC homogenized .txt file.\n",
      "    \n",
      "    Only the Annual data is returned. The returned dataframe has a datetime index,\n",
      "    properly assigned missing values, and a stripped column header.\n",
      "    \n",
      "    Parameters:\n",
      "    -----------\n",
      "    \n",
      "      infile : str\n",
      "         The name of file to load, can be a full path.\n",
      "    \n",
      "    Returns:\n",
      "    \n",
      "       df : pandas dataframe\n",
      "       \n",
      "    \"\"\"   \n",
      "    df = pd.read_csv(infile,skiprows=[0,1,3], index_col=False) # read into a dataframe\n",
      "    df = df.rename(columns=lambda x: x.strip())              # remove whitespaces in column names\n",
      "    df = df.replace(-9999.9, np.nan)                         # define -9999.9 as nan\n",
      "    df.index = df.Year.apply( datetime_from_year )           # make a datetime index from Year column\n",
      "    df = df.Annual                                           # only keep the annual data\n",
      "    return df\n",
      "    "
     ],
     "language": "python",
     "metadata": {},
     "outputs": []
    },
    {
     "cell_type": "code",
     "collapsed": false,
     "input": [
      "# Do a test to see if our df_from_txt function is working\n",
      "infile = 'Homog_monthly_mean_temp/mm1017230.txt'\n",
      "test = df_from_txt(infile)\n",
      "test.head()"
     ],
     "language": "python",
     "metadata": {},
     "outputs": []
    },
    {
     "cell_type": "code",
     "collapsed": false,
     "input": [
      "def group_stns(dfs):\n",
      "    \"\"\"Concatenate a list of stations, dfs, into a single dataframe along axis 1 (i.e. columnwise)\"\"\"\n",
      "    dfo = pd.concat(dfs, axis=1)\n",
      "    return dfo    "
     ],
     "language": "python",
     "metadata": {},
     "outputs": []
    },
    {
     "cell_type": "code",
     "collapsed": false,
     "input": [
      "def files_from_ids(ids, prefix=''):\n",
      "    \"\"\" Given an list of stnids, return the corresponding list of filenames. If prefix is provided\n",
      "    prepend the prefix to filename (useful for specifying a path)\n",
      "    \"\"\"\n",
      "    files = []\n",
      "    for id in ids:\n",
      "        files.append( prefix + 'mm' + str(id) + '.txt')\n",
      "        \n",
      "    return files  "
     ],
     "language": "python",
     "metadata": {},
     "outputs": []
    },
    {
     "cell_type": "code",
     "collapsed": false,
     "input": [
      "def load_stns(files):\n",
      "    \"\"\"Given a list of files, load them into a single pandas dataframe and return it. \n",
      "    The column header will be the stnid.\n",
      "    \"\"\"\n",
      "    dfo = df_from_txt(files[0])                              # Get the first file (0) into a dataframe\n",
      "    cols = []                                                # list of column names = stnid\n",
      "    head, tail = os.path.split(files[0])                     # use os.path to split any prepending path off the filename\n",
      "    cols.append(tail.replace('mm','').replace('.txt',''))    # get the stn id and append to col list.\n",
      "    \n",
      "    for f in files[1::]:\n",
      "        dfi = df_from_txt(f)                                 # files 1...n\n",
      "        dfo = group_stns([dfo, dfi])                         # append into the df\n",
      "        head, tail = os.path.split(f)\n",
      "        cols.append(tail.replace('mm','').replace('.txt',''))\n",
      "    \n",
      "    dfo.columns = cols                                       # assign the columns names to be stnid\n",
      "    return dfo"
     ],
     "language": "python",
     "metadata": {},
     "outputs": []
    },
    {
     "cell_type": "markdown",
     "metadata": {},
     "source": [
      "Now we have all the functions that we need to process all the Canadian data. First we'll get a list of all the station id's from the excel file. Next from those id's we'll create a corresponding list of filenames, and load them in using our load_stns functions."
     ]
    },
    {
     "cell_type": "code",
     "collapsed": false,
     "input": [
      "stn_ids = stns['stnid'].values[1::]                            # Get the stnids\n",
      "cfiles = files_from_ids(stn_ids, 'Homog_monthly_mean_temp/')   # get a list of filenames, with the path prepended\n",
      "dfc = load_stns(cfiles)                                        # load the data\n",
      "dfc.shape"
     ],
     "language": "python",
     "metadata": {},
     "outputs": []
    },
    {
     "cell_type": "markdown",
     "metadata": {},
     "source": [
      "Some stations go all the way back to almost 1845. However, only a few. Good coverage only starts after about 1900, so we'll just limit ourselves to the period after 1900. "
     ]
    },
    {
     "cell_type": "code",
     "collapsed": false,
     "input": [
      "dfc = dfc[dfc.index.year>=1900]"
     ],
     "language": "python",
     "metadata": {},
     "outputs": []
    },
    {
     "cell_type": "markdown",
     "metadata": {},
     "source": [
      "All the stations have quite different average temperatures. Think Inuvik vs Vancouver. If we want to compare changes in time, it is best to do so using anomalies relative to a given base period. Since we used 1981-2010 for the climatology, we'll use that again here for our base period. For every station, we'll calculate the mean temperature over 1981 to 2010, and then we'll compute the temperature anomaly relative to that base period in order to assess things have changed in time. "
     ]
    },
    {
     "cell_type": "code",
     "collapsed": false,
     "input": [
      "dfc_clim = dfc[ (dfc.index.year>=1980) & (dfc.index.year<=2010) ].mean(axis=0)\n",
      "dfc_anom = dfc - dfc_clim"
     ],
     "language": "python",
     "metadata": {},
     "outputs": []
    },
    {
     "cell_type": "code",
     "collapsed": false,
     "input": [
      "dfc_anom.mean(axis=1).plot(label='Annual')\n",
      "dfc_anom.mean(axis=1).resample('5A').plot(color='r', linewidth=3, label='5yr mean')\n",
      "plt.ylabel('Annual mean temp ($^{\\circ}$C)')\n",
      "plt.title('Simple mean of all Canadian Stations')\n",
      "plt.legend(loc='best')"
     ],
     "language": "python",
     "metadata": {},
     "outputs": []
    },
    {
     "cell_type": "markdown",
     "metadata": {},
     "source": [
      "The red line is a 5-year running mean. The main pattern that sticks out to me is the warming which really takes off after about 1970. A strong warming post-1970 is exactly what we would expect from the global warming signal. This is very typical of what is seen in global temperature records, and climate model simulations. \n",
      "\n",
      "The blue, unsmoothed, line shows us that temperatures vary a lot from year to year. So even though things are getting warmer on average, any one year might not be that warm. In the same way, while it is getting hotter on average across the globe, one region may experience no warming or even cooling for a year or even a decade. This is called interannual variability. It's not well appreciated in the general public, who sometimes expect that global warming means every year will be warmer than the last. \n",
      "\n",
      "One important thing to note is that it is not correct to say that what I have calculated is the \"average Canadian\" temperature anomaly. What I have done here is to take a simple mean across all the Canadian stations. However, as we have already seen, the stations are not evenly distributed, but are far more concentrated in the south. Thus, this mean is biased towards southern Canada. It's well known that warming is occuring faster in the Arctic than in the south. If we want to calculate a proper Canadian average, we would have to make sure we used spatially-even coverage, by either binning the data into boxes, or by interpolating the data onto a standard grid. Thats beyond the scope here, but maybe I'll look into it in the future. \n",
      "\n",
      "For now, as a simple check, we'll just look at a plot of all the individual stations to see if we can still see the warming pattern without doing the averaging."
     ]
    },
    {
     "cell_type": "code",
     "collapsed": false,
     "input": [
      "ax = dfc_anom.resample('5A').mean(axis=1).plot(color='k', alpha=0.25)\n",
      "dfc.shape\n",
      "for col in dfc_anom.columns:\n",
      "    dfc_anom[col].resample('5A').plot(ax=ax, color='k', alpha=0.25)    \n",
      "dfc_anom.mean(axis=1).resample('5A').plot(color='r', linewidth=3, label='Simple mean')    \n",
      "plt.ylim([-5, 3])\n",
      "plt.ylabel('Annual mean temp ($^{\\circ}$C)')\n",
      "plt.title('Individual Stations vs simple mean of all Stations')\n",
      "#plt.legend(loc='best')\n"
     ],
     "language": "python",
     "metadata": {},
     "outputs": []
    },
    {
     "cell_type": "markdown",
     "metadata": {},
     "source": []
    },
    {
     "cell_type": "markdown",
     "metadata": {},
     "source": [
      "I think that is seems pretty clear that the post-1970s warming has occurred at most individual stations, not just in the mean. What might be interesting is to compare warming rates in the north to those in the south, to see if the so called \"polar amplification\" of warming is evident. We'll isolate all stations north of 60N, average them, and compare it to the average of all stations south of 50N."
     ]
    },
    {
     "cell_type": "code",
     "collapsed": false,
     "input": [
      "# Get a list of stn id's for all stations N of 60\n",
      "n_stn_ids = stns[stns['lat (deg)'] > 60]['stnid'].values\n",
      "n_stn_ids = [str(id) for id in n_stn_ids]                 # convert to str\n",
      "dfn_anom = dfc_anom[n_stn_ids].copy()\n",
      "\n",
      "# Get a list of stn id's for all stations S of 50\n",
      "s_stn_ids = stns[stns['lat (deg)'] < 50]['stnid'].values\n",
      "s_stn_ids = [str(id) for id in s_stn_ids]\n",
      "# make sure all the id's actually exist \n",
      "for id in s_stn_ids:\n",
      "    if id in dfc_anom.columns.values:\n",
      "        pass\n",
      "    else:\n",
      "       s_stn_ids.remove(id)\n",
      "\n",
      "dfs_anom = dfc_anom[s_stn_ids]\n",
      "\n",
      "dfs_anom.mean(axis=1).resample('5A').plot(color='g', linewidth=3, label='South-simple-mean')\n",
      "dfn_anom.mean(axis=1).resample('5A').plot(color='b', linewidth=3, label='North-simple-mean')\n",
      "plt.ylabel('Annual mean temp ($^{\\circ}$C)')\n",
      "plt.title('Canada warming South of 50$^{\\circ}$N vs North of 60$^{\\circ}$N')\n",
      "plt.legend(loc='best')"
     ],
     "language": "python",
     "metadata": {},
     "outputs": []
    },
    {
     "cell_type": "markdown",
     "metadata": {},
     "source": [
      "Okay, so it appears that the north is indeed warming faster than the south, as expected. That is even more reason to be careful about calculating simple means, without proper area weighting. Speaking of the north, lets go and find out which is the coldest station in Canada! To do this we'll again compute a climatology over 1981 to 2010."
     ]
    },
    {
     "cell_type": "code",
     "collapsed": false,
     "input": [
      "dfc_clim = dfc[(dfc.index.year>=1981) & (dfc.index.year<=2010)].mean(axis=0)"
     ],
     "language": "python",
     "metadata": {},
     "outputs": []
    },
    {
     "cell_type": "code",
     "collapsed": false,
     "input": [
      "print dfc_clim.min()\n",
      "coldest_id = dfc_clim[dfc_clim == dfc_clim.min() ].index\n",
      "#print coldest_id[0]\n",
      "stns[stns.stnid==int(coldest_id[0])]"
     ],
     "language": "python",
     "metadata": {},
     "outputs": []
    },
    {
     "cell_type": "code",
     "collapsed": false,
     "input": [
      "print dfc_clim.max()\n",
      "warmest_id = dfc_clim[dfc_clim == dfc_clim.max() ].index\n",
      "#print coldest_id[0]\n",
      "stns[stns.stnid==int(warmest_id[0])]"
     ],
     "language": "python",
     "metadata": {},
     "outputs": []
    },
    {
     "cell_type": "markdown",
     "metadata": {},
     "source": []
    },
    {
     "cell_type": "markdown",
     "metadata": {},
     "source": [
      "According to the homogenized temperatures, Vancouver was the warmest Canadian city over 1981 to 2010 on average. Maybe it explains a little about the house prices.\n",
      "\n",
      "I've now got a good feeling about the homogenized data, since it is quite easy to use and  the CRD scientists have already done the hard work of doing the homogenizing. For my django website I'll probably start off using this data, which at least ensures reliable statistics. Its unfortunate that it will be hard to compare this with the unhomogenized near real time data. Perhaps at some point I'll think about applying some type of calibration to the near-real time data so that it can be included, but that will likely be tricky."
     ]
    }
   ],
   "metadata": {}
  }
 ]
}