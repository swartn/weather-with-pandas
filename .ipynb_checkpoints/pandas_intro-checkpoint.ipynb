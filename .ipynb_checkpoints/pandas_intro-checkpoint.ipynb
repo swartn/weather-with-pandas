{
 "metadata": {
  "name": "",
  "signature": "sha256:8c749b25c7ae7a17802a6274b0edf5a7e7d4cbf85d0a883223d3fb7a5d866bd2"
 },
 "nbformat": 3,
 "nbformat_minor": 0,
 "worksheets": [
  {
   "cells": [
    {
     "cell_type": "markdown",
     "metadata": {},
     "source": [
      "# Weather with Pandas\n",
      "__neil.cameron.swart@gmail.com__ \n",
      "\n",
      "\n",
      "## Introduction\n",
      "This is a basic introduction to pandas using some Environment Canada weather station data. We will look at one year's\n",
      "worth of daily data from Victoria, BC and we'll cover three basic topics:\n",
      "\n",
      "1. Loading and looking at data\n",
      "1. Basic filtering of data\n",
      "1. Basic plotting\n",
      "\n",
      "To start with, you need to download the data from [here](http://climate.weather.gc.ca/climateData/bulkdata_e.html?format=csv&stationID=118&Year=2012&Month=12&day=1&timeframe=2&submit=Download+Data) and save the file as \n",
      "    yyj_daily_2012.csv \n",
      "You can get similar data for other stations, all of which can be explored on the [EC website](http://climate.weather.gc.ca/index_e.html#access). If you want to download multiple years worth of data checkout\n",
      "this [wget script](https://github.com/swartn/weather-with-pandas/blob/master/get_ec_stn_data.sh) on my github for an example.\n",
      "\n",
      "Some of the material presented here was taken from a similar tutorial, which documents even more functionality:\n",
      "\n",
      "http://nbviewer.ipython.org/github/swcarpentry/bc/blob/gh-pages/lessons/misc-pandas/an-introduction-to-pandas.ipynb\n",
      "\n",
      "Of course also check out the official docs:\n",
      "http://pandas.pydata.org/"
     ]
    },
    {
     "cell_type": "markdown",
     "metadata": {},
     "source": [
      "## Loading data and viewing its basic properties\n",
      "Now lets get started. First off lets load up our required modules, including pandas."
     ]
    },
    {
     "cell_type": "code",
     "collapsed": false,
     "input": [
      "import re\n",
      "import pandas as pd\n",
      "from datetime import datetime\n",
      "import pylab\n",
      "#%matplotlib inline  "
     ],
     "language": "python",
     "metadata": {},
     "outputs": [],
     "prompt_number": 87
    },
    {
     "cell_type": "markdown",
     "metadata": {},
     "source": [
      "Lets read in the yyj daily weather data from the CSV formatted file into a Pandas dataframe.  We will tell pandas to skip the first 24 rows which are unwanted header info. Pandas will automatically read the column names from row 25, and the data below that."
     ]
    },
    {
     "cell_type": "code",
     "collapsed": false,
     "input": [
      "df = pd.read_csv('yyj_daily_2012.csv',skiprows=24)"
     ],
     "language": "python",
     "metadata": {},
     "outputs": [],
     "prompt_number": 88
    },
    {
     "cell_type": "markdown",
     "metadata": {},
     "source": [
      "Pandas dataframes have much of the functionality of numpy arrays, plus much more. Lets look at some properties of the dataframe, like its shape:"
     ]
    },
    {
     "cell_type": "code",
     "collapsed": false,
     "input": [
      "df.shape"
     ],
     "language": "python",
     "metadata": {},
     "outputs": [
      {
       "metadata": {},
       "output_type": "pyout",
       "prompt_number": 89,
       "text": [
        "(366, 27)"
       ]
      }
     ],
     "prompt_number": 89
    },
    {
     "cell_type": "markdown",
     "metadata": {},
     "source": [
      "The shape tells us that the dataframe has 366 rows (one for each day of 2012) and 27 columns. Lets see what the names of those columns are:"
     ]
    },
    {
     "cell_type": "code",
     "collapsed": false,
     "input": [
      "df.columns"
     ],
     "language": "python",
     "metadata": {},
     "outputs": [
      {
       "metadata": {},
       "output_type": "pyout",
       "prompt_number": 90,
       "text": [
        "Index([u'Date/Time', u'Year', u'Month', u'Day', u'Data Quality', u'Max Temp (\ufffdC)', u'Max Temp Flag', u'Min Temp (\ufffdC)', u'Min Temp Flag', u'Mean Temp (\ufffdC)', u'Mean Temp Flag', u'Heat Deg Days (\ufffdC)', u'Heat Deg Days Flag', u'Cool Deg Days (\ufffdC)', u'Cool Deg Days Flag', u'Total Rain (mm)', u'Total Rain Flag', u'Total Snow (cm)', u'Total Snow Flag', u'Total Precip (mm)', u'Total Precip Flag', u'Snow on Grnd (cm)', u'Snow on Grnd Flag', u'Dir of Max Gust (10s deg)', u'Dir of Max Gust Flag', u'Spd of Max Gust (km/h)', u'Spd of Max Gust Flag'], dtype='object')"
       ]
      }
     ],
     "prompt_number": 90
    },
    {
     "cell_type": "markdown",
     "metadata": {},
     "source": [
      "Ok so now we know what the columns are. The column names arn't particularly easy to read, but we'll get to fixing that soon. First though, lets look at some mean statistics, starting with the mean for each column.\n"
     ]
    },
    {
     "cell_type": "code",
     "collapsed": false,
     "input": [
      "df.mean()"
     ],
     "language": "python",
     "metadata": {},
     "outputs": [
      {
       "metadata": {},
       "output_type": "pyout",
       "prompt_number": 91,
       "text": [
        "Year                         2012.000000\n",
        "Month                           6.513661\n",
        "Day                            15.756831\n",
        "Data Quality                         NaN\n",
        "Max Temp (\ufffdC)                  14.179508\n",
        "Max Temp Flag                        NaN\n",
        "Min Temp (\ufffdC)                   5.578142\n",
        "Min Temp Flag                        NaN\n",
        "Mean Temp (\ufffdC)                  9.902186\n",
        "Mean Temp Flag                       NaN\n",
        "Heat Deg Days (\ufffdC)              8.173224\n",
        "Heat Deg Days Flag                   NaN\n",
        "Cool Deg Days (\ufffdC)              0.075410\n",
        "Cool Deg Days Flag                   NaN\n",
        "Total Rain (mm)                 2.597541\n",
        "Total Snow (cm)                 0.037705\n",
        "Total Precip (mm)               2.633607\n",
        "Snow on Grnd (cm)               0.040984\n",
        "Dir of Max Gust (10s deg)      19.315789\n",
        "dtype: float64"
       ]
      }
     ],
     "prompt_number": 91
    },
    {
     "cell_type": "markdown",
     "metadata": {},
     "source": [
      "Max, Min, Std, and others are available too. The flag columns have NaN values for the mean, because there is not valid numeric data in those columns. Now lets access some data, lets say the month field"
     ]
    },
    {
     "cell_type": "code",
     "collapsed": false,
     "input": [
      "df['Month']"
     ],
     "language": "python",
     "metadata": {},
     "outputs": [
      {
       "metadata": {},
       "output_type": "pyout",
       "prompt_number": 92,
       "text": [
        "0     1\n",
        "1     1\n",
        "2     1\n",
        "3     1\n",
        "4     1\n",
        "5     1\n",
        "6     1\n",
        "7     1\n",
        "8     1\n",
        "9     1\n",
        "10    1\n",
        "11    1\n",
        "12    1\n",
        "13    1\n",
        "14    1\n",
        "...\n",
        "351    12\n",
        "352    12\n",
        "353    12\n",
        "354    12\n",
        "355    12\n",
        "356    12\n",
        "357    12\n",
        "358    12\n",
        "359    12\n",
        "360    12\n",
        "361    12\n",
        "362    12\n",
        "363    12\n",
        "364    12\n",
        "365    12\n",
        "Name: Month, Length: 366, dtype: int64"
       ]
      }
     ],
     "prompt_number": 92
    },
    {
     "cell_type": "markdown",
     "metadata": {},
     "source": [
      "so we got a printout of the row index (left) and month (right). Pandas truncated the data, and only actually printed the first and last 15 columns, to make it easier to read. Now say we only want the first 10 rows, we can use the head function:"
     ]
    },
    {
     "cell_type": "code",
     "collapsed": false,
     "input": [
      "df.Month.head(10)"
     ],
     "language": "python",
     "metadata": {},
     "outputs": [
      {
       "metadata": {},
       "output_type": "pyout",
       "prompt_number": 93,
       "text": [
        "0    1\n",
        "1    1\n",
        "2    1\n",
        "3    1\n",
        "4    1\n",
        "5    1\n",
        "6    1\n",
        "7    1\n",
        "8    1\n",
        "9    1\n",
        "Name: Month, dtype: int64"
       ]
      }
     ],
     "prompt_number": 93
    },
    {
     "cell_type": "markdown",
     "metadata": {},
     "source": [
      "Notice that here we also used the \"dot syntax\" (df.Month) to access the \"month\" column, compared to before when we used df[\"Month\"]. Both are valid ways to access a column. However because many of our columns names contain spaces and weird characters, using the dot syntax won't work easily for most of our columns. We'll fix that soon. Firstly, lets get focused statistics for the Total precip field using describe:\n"
     ]
    },
    {
     "cell_type": "code",
     "collapsed": false,
     "input": [
      "df['Total Precip (mm)'].describe()"
     ],
     "language": "python",
     "metadata": {},
     "outputs": [
      {
       "metadata": {},
       "output_type": "pyout",
       "prompt_number": 94,
       "text": [
        "count    366.000000\n",
        "mean       2.633607\n",
        "std        5.164477\n",
        "min        0.000000\n",
        "25%        0.000000\n",
        "50%        0.000000\n",
        "75%        2.800000\n",
        "max       29.800000\n",
        "Name: Total Precip (mm), dtype: float64"
       ]
      }
     ],
     "prompt_number": 94
    },
    {
     "cell_type": "markdown",
     "metadata": {},
     "source": [
      "The columns names are a little unweildy, so lets replace them with something better: For each column name, lets strip out the wierd unit and spaces and replace the spaces with underscores and store the result in a list called dcol. This is just a python trick, not really pandas. You could just write a list of names if you wanted."
     ]
    },
    {
     "cell_type": "code",
     "collapsed": false,
     "input": [
      "# use a list comprehension to strip off weird units, and replace spaces with underscores.\n",
      "dcol = [ re.sub(r'\\(.*?\\)', '', col).strip(' ').replace(' ', '_') for col in df.columns ]\n",
      "# now lets replace our old columns headers with dcol in the pandas dataframe. Remember, dcol\n",
      "# could be any list of names you make up, as long as it is a list containing the correct number strings = # columns.\n",
      "\n",
      "df.columns = dcol\n",
      "\n",
      "# check that it worked\n",
      "df.columns"
     ],
     "language": "python",
     "metadata": {},
     "outputs": [
      {
       "metadata": {},
       "output_type": "pyout",
       "prompt_number": 95,
       "text": [
        "Index([u'Date/Time', u'Year', u'Month', u'Day', u'Data_Quality', u'Max_Temp', u'Max_Temp_Flag', u'Min_Temp', u'Min_Temp_Flag', u'Mean_Temp', u'Mean_Temp_Flag', u'Heat_Deg_Days', u'Heat_Deg_Days_Flag', u'Cool_Deg_Days', u'Cool_Deg_Days_Flag', u'Total_Rain', u'Total_Rain_Flag', u'Total_Snow', u'Total_Snow_Flag', u'Total_Precip', u'Total_Precip_Flag', u'Snow_on_Grnd', u'Snow_on_Grnd_Flag', u'Dir_of_Max_Gust', u'Dir_of_Max_Gust_Flag', u'Spd_of_Max_Gust', u'Spd_of_Max_Gust_Flag'], dtype='object')"
       ]
      }
     ],
     "prompt_number": 95
    },
    {
     "cell_type": "markdown",
     "metadata": {},
     "source": [
      "Now that we have fixed the columns names, we can easily use dot sytax to get some more interesting data. Lets look at the maximum temperature field."
     ]
    },
    {
     "cell_type": "code",
     "collapsed": false,
     "input": [
      "df.Max_Temp"
     ],
     "language": "python",
     "metadata": {},
     "outputs": [
      {
       "metadata": {},
       "output_type": "pyout",
       "prompt_number": 96,
       "text": [
        "0      6.6\n",
        "1     10.4\n",
        "2      9.7\n",
        "3     10.6\n",
        "4      8.8\n",
        "5      6.0\n",
        "6      6.6\n",
        "7      8.1\n",
        "8     10.7\n",
        "9      6.3\n",
        "10     5.2\n",
        "11     5.9\n",
        "12     3.4\n",
        "13     5.1\n",
        "14     2.4\n",
        "...\n",
        "351    5.8\n",
        "352    5.5\n",
        "353    5.8\n",
        "354    6.9\n",
        "355    7.9\n",
        "356    5.6\n",
        "357    7.7\n",
        "358    6.4\n",
        "359    5.9\n",
        "360    6.5\n",
        "361    6.6\n",
        "362    6.6\n",
        "363    5.5\n",
        "364    5.4\n",
        "365    3.7\n",
        "Name: Max_Temp, Length: 366, dtype: float64"
       ]
      }
     ],
     "prompt_number": 96
    },
    {
     "cell_type": "markdown",
     "metadata": {},
     "source": [
      "Ok, now lets look at the \"index\" field that we heard about before. Currently the index is just an integer."
     ]
    },
    {
     "cell_type": "code",
     "collapsed": false,
     "input": [
      "df.index"
     ],
     "language": "python",
     "metadata": {},
     "outputs": [
      {
       "metadata": {},
       "output_type": "pyout",
       "prompt_number": 97,
       "text": [
        "Int64Index([0, 1, 2, 3, 4, 5, 6, 7, 8, 9, 10, 11, 12, 13, 14, 15, 16, 17, 18, 19, 20, 21, 22, 23, 24, 25, 26, 27, 28, 29, 30, 31, 32, 33, 34, 35, 36, 37, 38, 39, 40, 41, 42, 43, 44, 45, 46, 47, 48, 49, 50, 51, 52, 53, 54, 55, 56, 57, 58, 59, 60, 61, 62, 63, 64, 65, 66, 67, 68, 69, 70, 71, 72, 73, 74, 75, 76, 77, 78, 79, 80, 81, 82, 83, 84, 85, 86, 87, 88, 89, 90, 91, 92, 93, 94, 95, 96, 97, 98, 99, ...], dtype='int64')"
       ]
      }
     ],
     "prompt_number": 97
    },
    {
     "cell_type": "markdown",
     "metadata": {},
     "source": [
      "thats okay, but it turns out to be useful to use the datetime as the index.\n",
      "let write a function that converts our first column, the string Date/Time into an actual\n",
      "python datetime object. "
     ]
    },
    {
     "cell_type": "code",
     "collapsed": false,
     "input": [
      "# Define a function to convert strings to dates\n",
      "def string_to_date(date_string):\n",
      "    return datetime.strptime(date_string, \"%Y-%m-%d\")"
     ],
     "language": "python",
     "metadata": {},
     "outputs": [],
     "prompt_number": 98
    },
    {
     "cell_type": "markdown",
     "metadata": {},
     "source": [
      "Run the function on every date string and overwrite the column"
     ]
    },
    {
     "cell_type": "code",
     "collapsed": false,
     "input": [
      "df.date = df['Date/Time'].apply(string_to_date)\n",
      "df.date.head()"
     ],
     "language": "python",
     "metadata": {},
     "outputs": [
      {
       "metadata": {},
       "output_type": "pyout",
       "prompt_number": 99,
       "text": [
        "0   2012-01-01\n",
        "1   2012-01-02\n",
        "2   2012-01-03\n",
        "3   2012-01-04\n",
        "4   2012-01-05\n",
        "Name: Date/Time, dtype: datetime64[ns]"
       ]
      }
     ],
     "prompt_number": 99
    },
    {
     "cell_type": "markdown",
     "metadata": {},
     "source": [
      "Now lets replace our dataframes index with the date field"
     ]
    },
    {
     "cell_type": "code",
     "collapsed": false,
     "input": [
      "df.index = df.date"
     ],
     "language": "python",
     "metadata": {},
     "outputs": [],
     "prompt_number": 100
    },
    {
     "cell_type": "markdown",
     "metadata": {},
     "source": [
      "check that it worked"
     ]
    },
    {
     "cell_type": "code",
     "collapsed": false,
     "input": [
      "df.index"
     ],
     "language": "python",
     "metadata": {},
     "outputs": [
      {
       "metadata": {},
       "output_type": "pyout",
       "prompt_number": 101,
       "text": [
        "<class 'pandas.tseries.index.DatetimeIndex'>\n",
        "[2012-01-01, ..., 2012-12-31]\n",
        "Length: 366, Freq: None, Timezone: None"
       ]
      }
     ],
     "prompt_number": 101
    },
    {
     "cell_type": "markdown",
     "metadata": {},
     "source": [
      "Actually, we are being inefficient. When we loaded the dataframe,\n",
      "we could have told pandas to parse the dates and use them. But\n",
      "the above example shows how you can define a function and apply\n",
      "it to every line in a dataframe."
     ]
    },
    {
     "cell_type": "markdown",
     "metadata": {},
     "source": [
      "## Basic filtering\n",
      "Okay, now that we have the index as datetimes, it allows us to do some neat filetering and plotting. Lets start by doing a seasonal decomposition. Lets find the max temp in summer (JJA or months 6 to 8):"
     ]
    },
    {
     "cell_type": "code",
     "collapsed": false,
     "input": [
      "df.jja = df[ ( df.index.month >= 6 ) & ( df.index.month <= 8 )]\n",
      "df.jja.Max_Temp.max()"
     ],
     "language": "python",
     "metadata": {},
     "outputs": [
      {
       "metadata": {},
       "output_type": "pyout",
       "prompt_number": 102,
       "text": [
        "31.399999999999999"
       ]
      }
     ],
     "prompt_number": 102
    },
    {
     "cell_type": "markdown",
     "metadata": {},
     "source": [
      "Lets find information on 18th July. To do this we will use ix, and pass it the datetime for 18 July."
     ]
    },
    {
     "cell_type": "code",
     "collapsed": false,
     "input": [
      "df.ix[ datetime(2012, 6, 18) ]"
     ],
     "language": "python",
     "metadata": {},
     "outputs": [
      {
       "metadata": {},
       "output_type": "pyout",
       "prompt_number": 103,
       "text": [
        "Date/Time               2012-06-18\n",
        "Year                          2012\n",
        "Month                            6\n",
        "Day                             18\n",
        "Data_Quality                   NaN\n",
        "Max_Temp                      18.2\n",
        "Max_Temp_Flag                  NaN\n",
        "Min_Temp                       9.5\n",
        "Min_Temp_Flag                  NaN\n",
        "Mean_Temp                     13.9\n",
        "Mean_Temp_Flag                 NaN\n",
        "Heat_Deg_Days                  4.1\n",
        "Heat_Deg_Days_Flag             NaN\n",
        "Cool_Deg_Days                    0\n",
        "Cool_Deg_Days_Flag             NaN\n",
        "Total_Rain                     1.5\n",
        "Total_Rain_Flag                NaN\n",
        "Total_Snow                       0\n",
        "Total_Snow_Flag                NaN\n",
        "Total_Precip                   1.5\n",
        "Total_Precip_Flag              NaN\n",
        "Snow_on_Grnd                     0\n",
        "Snow_on_Grnd_Flag              NaN\n",
        "Dir_of_Max_Gust                 25\n",
        "Dir_of_Max_Gust_Flag             E\n",
        "Spd_of_Max_Gust                 39\n",
        "Spd_of_Max_Gust_Flag             E\n",
        "Name: 2012-06-18 00:00:00, dtype: object"
       ]
      }
     ],
     "prompt_number": 103
    },
    {
     "cell_type": "markdown",
     "metadata": {},
     "source": [
      "Lets look only for days that are nice and warm, lets say Mean_Temp > 18. We'll request the index so we get a print out of the datetimes."
     ]
    },
    {
     "cell_type": "code",
     "collapsed": false,
     "input": [
      "df[ df.Mean_Temp > 18 ].index"
     ],
     "language": "python",
     "metadata": {},
     "outputs": [
      {
       "metadata": {},
       "output_type": "pyout",
       "prompt_number": 104,
       "text": [
        "<class 'pandas.tseries.index.DatetimeIndex'>\n",
        "[2012-07-08, ..., 2012-09-08]\n",
        "Length: 16, Freq: None, Timezone: None"
       ]
      }
     ],
     "prompt_number": 104
    },
    {
     "cell_type": "markdown",
     "metadata": {},
     "source": [
      "## Basic plotting\n",
      "Lets do some basic plotting. First up, lets look at a historgram of our maximum temperature data:"
     ]
    },
    {
     "cell_type": "code",
     "collapsed": false,
     "input": [
      "df.Max_Temp.hist()"
     ],
     "language": "python",
     "metadata": {},
     "outputs": [
      {
       "metadata": {},
       "output_type": "pyout",
       "prompt_number": 105,
       "text": [
        "<matplotlib.axes.AxesSubplot at 0x710c8d0>"
       ]
      },
      {
       "metadata": {},
       "output_type": "display_data",
       "png": "[encoded data removed]",
       "text": [
        "<matplotlib.figure.Figure at 0x70fdf10>"
       ]
      }
     ],
     "prompt_number": 105
    },
    {
     "cell_type": "markdown",
     "metadata": {},
     "source": [
      "Okay, that's not bad, but now lets look at a time-series of the data instead:"
     ]
    },
    {
     "cell_type": "code",
     "collapsed": false,
     "input": [
      "df.Max_Temp.plot()\n",
      "plt.ylabel('Max. temp. ($^{\\circ}$C)')"
     ],
     "language": "python",
     "metadata": {},
     "outputs": [
      {
       "metadata": {},
       "output_type": "pyout",
       "prompt_number": 112,
       "text": [
        "<matplotlib.text.Text at 0x8f23090>"
       ]
      },
      {
       "metadata": {},
       "output_type": "display_data",
       "png": "[encoded data removed]",
       "text": [
        "<matplotlib.figure.Figure at 0x8c142d0>"
       ]
      }
     ],
     "prompt_number": 112
    },
    {
     "cell_type": "markdown",
     "metadata": {},
     "source": [
      "So Pandas has given us a decent plot, with nice labelling on the time-axis. Because pandas uses matplotlib, we can add-to and alter our pandas plots in the same way we would for any matplotlib plot. Note above how I manually added the y-axis label. Now lets resample to a 5 day interval and then plot the result: "
     ]
    },
    {
     "cell_type": "code",
     "collapsed": false,
     "input": [
      "df.Max_Temp.plot(linewidth=1)\n",
      "df.Max_Temp.resample('5d').plot(color='r',linewidth=3)\n",
      "plt.ylabel('Max. temp. ($^{\\circ}$C)')\n",
      "plt.title('Resampled to 5 day means')"
     ],
     "language": "python",
     "metadata": {},
     "outputs": [
      {
       "metadata": {},
       "output_type": "pyout",
       "prompt_number": 114,
       "text": [
        "<matplotlib.text.Text at 0x9710450>"
       ]
      },
      {
       "metadata": {},
       "output_type": "display_data",
       "png": "[encoded data removed]",
       "text": [
        "<matplotlib.figure.Figure at 0x872d410>"
       ]
      }
     ],
     "prompt_number": 114
    },
    {
     "cell_type": "code",
     "collapsed": false,
     "input": [],
     "language": "python",
     "metadata": {},
     "outputs": []
    }
   ],
   "metadata": {}
  }
 ]
}